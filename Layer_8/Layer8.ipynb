{
  "cells": [
    {
      "cell_type": "markdown",
      "metadata": {
        "id": "ftIuIjU140Jn"
      },
      "source": [
        "# Layer 11"
      ]
    },
    {
      "cell_type": "code",
      "execution_count": 4,
      "metadata": {
        "id": "9wAIxyQyBSSK"
      },
      "outputs": [
        {
          "name": "stdout",
          "output_type": "stream",
          "text": [
            "Defaulting to user installation because normal site-packages is not writeable\n"
          ]
        },
        {
          "name": "stdout",
          "output_type": "stream",
          "text": [
            "Requirement already satisfied: shap in /home/jananga/.local/lib/python3.10/site-packages (0.42.1)\n",
            "Requirement already satisfied: numpy in /home/jananga/.local/lib/python3.10/site-packages (from shap) (1.25.2)\n",
            "Requirement already satisfied: scipy in /home/jananga/.local/lib/python3.10/site-packages (from shap) (1.11.2)\n",
            "Requirement already satisfied: scikit-learn in /home/jananga/.local/lib/python3.10/site-packages (from shap) (1.3.1)\n",
            "Requirement already satisfied: pandas in /home/jananga/.local/lib/python3.10/site-packages (from shap) (2.1.1)\n",
            "Requirement already satisfied: tqdm>=4.27.0 in /home/jananga/.local/lib/python3.10/site-packages (from shap) (4.66.1)\n",
            "Requirement already satisfied: packaging>20.9 in /home/jananga/.local/lib/python3.10/site-packages (from shap) (23.1)\n",
            "Requirement already satisfied: slicer==0.0.7 in /home/jananga/.local/lib/python3.10/site-packages (from shap) (0.0.7)\n",
            "Requirement already satisfied: numba in /home/jananga/.local/lib/python3.10/site-packages (from shap) (0.58.0)\n",
            "Requirement already satisfied: cloudpickle in /home/jananga/.local/lib/python3.10/site-packages (from shap) (2.2.1)\n",
            "Requirement already satisfied: llvmlite<0.42,>=0.41.0dev0 in /home/jananga/.local/lib/python3.10/site-packages (from numba->shap) (0.41.0)\n",
            "Requirement already satisfied: python-dateutil>=2.8.2 in /home/jananga/.local/lib/python3.10/site-packages (from pandas->shap) (2.8.2)\n",
            "Requirement already satisfied: pytz>=2020.1 in /usr/lib/python3/dist-packages (from pandas->shap) (2022.1)\n",
            "Requirement already satisfied: tzdata>=2022.1 in /home/jananga/.local/lib/python3.10/site-packages (from pandas->shap) (2023.3)\n",
            "Requirement already satisfied: joblib>=1.1.1 in /home/jananga/.local/lib/python3.10/site-packages (from scikit-learn->shap) (1.3.2)\n",
            "Requirement already satisfied: threadpoolctl>=2.0.0 in /home/jananga/.local/lib/python3.10/site-packages (from scikit-learn->shap) (3.2.0)\n",
            "Requirement already satisfied: six>=1.5 in /usr/lib/python3/dist-packages (from python-dateutil>=2.8.2->pandas->shap) (1.16.0)\n"
          ]
        }
      ],
      "source": [
        "! pip install shap"
      ]
    },
    {
      "cell_type": "code",
      "execution_count": 1,
      "metadata": {
        "id": "adkT59xG3nrt"
      },
      "outputs": [
        {
          "name": "stderr",
          "output_type": "stream",
          "text": [
            "IProgress not found. Please update jupyter and ipywidgets. See https://ipywidgets.readthedocs.io/en/stable/user_install.html\n"
          ]
        }
      ],
      "source": [
        "import pandas as pd\n",
        "import matplotlib.pyplot as plt\n",
        "import numpy as np\n",
        "import seaborn as sns\n",
        "import heapq\n",
        "from sklearn.decomposition import PCA\n",
        "from sklearn.svm import SVC\n",
        "from sklearn.metrics import classification_report, confusion_matrix, accuracy_score\n",
        "from sklearn.model_selection import cross_val_score, RandomizedSearchCV\n",
        "from sklearn.preprocessing import RobustScaler\n",
        "from sklearn.utils.class_weight import compute_class_weight\n",
        "from sklearn.ensemble import RandomForestClassifier\n",
        "from sklearn.neighbors import KNeighborsClassifier\n",
        "import shap\n",
        "import shap.plots as shap_plots"
      ]
    },
    {
      "cell_type": "markdown",
      "metadata": {
        "id": "aplyfMEo7YIx"
      },
      "source": [
        "# Reading Data From CSV files"
      ]
    },
    {
      "cell_type": "code",
      "execution_count": 2,
      "metadata": {
        "id": "BMm_AHmL4w2k"
      },
      "outputs": [],
      "source": [
        "train_data = pd.read_csv('./train.csv')\n",
        "valid_data = pd.read_csv('./valid.csv')\n",
        "test_data = pd.read_csv('./test.csv')"
      ]
    },
    {
      "cell_type": "markdown",
      "metadata": {
        "id": "LQYFarVj7fYc"
      },
      "source": [
        "## Extracting X and Y"
      ]
    },
    {
      "cell_type": "code",
      "execution_count": 3,
      "metadata": {
        "id": "6jDMB0WN7U1J"
      },
      "outputs": [],
      "source": [
        "X_train, y_train = train_data.iloc[:, :-4], train_data.iloc[:, -4:]\n",
        "X_valid, y_valid = valid_data.iloc[:, :-4], valid_data.iloc[:, -4:]\n",
        "X_test = test_data.iloc[:, 1:]\n",
        "y_train_arr = [y_train.iloc[:, i] for i in range(4)]\n",
        "y_valid_arr = [y_valid.iloc[:, i] for i in range(4)]"
      ]
    },
    {
      "cell_type": "markdown",
      "metadata": {
        "id": "29JTi9Ix5-3E"
      },
      "source": [
        "# Data Preprocessing"
      ]
    },
    {
      "cell_type": "markdown",
      "metadata": {
        "id": "cxqP0N3x6Hzs"
      },
      "source": [
        "## Checking for missing values"
      ]
    },
    {
      "cell_type": "code",
      "execution_count": 4,
      "metadata": {
        "colab": {
          "base_uri": "https://localhost:8080/"
        },
        "id": "BjZB4fXy6WR3",
        "outputId": "23780e53-265c-4b81-a388-659ffa003797"
      },
      "outputs": [
        {
          "data": {
            "text/plain": [
              "0"
            ]
          },
          "execution_count": 4,
          "metadata": {},
          "output_type": "execute_result"
        }
      ],
      "source": [
        "X_train.isnull().sum().sum()"
      ]
    },
    {
      "cell_type": "code",
      "execution_count": 5,
      "metadata": {
        "colab": {
          "base_uri": "https://localhost:8080/"
        },
        "id": "GKLzurb36bX6",
        "outputId": "9d735640-13be-4c11-d71a-cd5b3d4f60d3"
      },
      "outputs": [
        {
          "data": {
            "text/plain": [
              "0"
            ]
          },
          "execution_count": 5,
          "metadata": {},
          "output_type": "execute_result"
        }
      ],
      "source": [
        "X_valid.isnull().sum().sum()"
      ]
    },
    {
      "cell_type": "code",
      "execution_count": 6,
      "metadata": {
        "colab": {
          "base_uri": "https://localhost:8080/"
        },
        "id": "Q2lVLY436fiL",
        "outputId": "9617b31a-8142-429f-8799-888dedd4365e"
      },
      "outputs": [
        {
          "data": {
            "text/plain": [
              "0"
            ]
          },
          "execution_count": 6,
          "metadata": {},
          "output_type": "execute_result"
        }
      ],
      "source": [
        "X_test.isnull().sum().sum()"
      ]
    },
    {
      "cell_type": "code",
      "execution_count": 7,
      "metadata": {
        "colab": {
          "base_uri": "https://localhost:8080/"
        },
        "id": "QxS1IPrb6hHG",
        "outputId": "adeca731-1a0e-497b-bd1b-d141120e20cf"
      },
      "outputs": [
        {
          "data": {
            "text/plain": [
              "label_1      0\n",
              "label_2    480\n",
              "label_3      0\n",
              "label_4      0\n",
              "dtype: int64"
            ]
          },
          "execution_count": 7,
          "metadata": {},
          "output_type": "execute_result"
        }
      ],
      "source": [
        "y_train.isnull().sum()"
      ]
    },
    {
      "cell_type": "code",
      "execution_count": 8,
      "metadata": {
        "colab": {
          "base_uri": "https://localhost:8080/"
        },
        "id": "qjXrRwBv6mbC",
        "outputId": "9e26ef4d-e0f7-422e-b2dc-abf983b28962"
      },
      "outputs": [
        {
          "data": {
            "text/plain": [
              "label_1     0\n",
              "label_2    14\n",
              "label_3     0\n",
              "label_4     0\n",
              "dtype: int64"
            ]
          },
          "execution_count": 8,
          "metadata": {},
          "output_type": "execute_result"
        }
      ],
      "source": [
        "y_valid.isnull().sum()"
      ]
    },
    {
      "cell_type": "code",
      "execution_count": 9,
      "metadata": {
        "colab": {
          "base_uri": "https://localhost:8080/"
        },
        "id": "_jhAd_5s627R",
        "outputId": "88ff6568-66c2-4e86-f9bf-241a5dc95f77"
      },
      "outputs": [
        {
          "data": {
            "text/plain": [
              "28520"
            ]
          },
          "execution_count": 9,
          "metadata": {},
          "output_type": "execute_result"
        }
      ],
      "source": [
        "len(y_train)"
      ]
    },
    {
      "cell_type": "markdown",
      "metadata": {
        "id": "csNLBKX06qiO"
      },
      "source": [
        "Therefore y_train and y_valid label 2 only have missing values"
      ]
    },
    {
      "cell_type": "code",
      "execution_count": 10,
      "metadata": {
        "colab": {
          "base_uri": "https://localhost:8080/"
        },
        "id": "cje6P1WF6qM0",
        "outputId": "72d5129a-8ec3-49b8-b57a-0a8ef75eb151"
      },
      "outputs": [
        {
          "name": "stdout",
          "output_type": "stream",
          "text": [
            "Missing values percentage of train label 2 column : 1.6830294530154277%\n",
            "Missing values percentage of valid label 2 column : 1.8666666666666667%\n"
          ]
        }
      ],
      "source": [
        "print(f\"Missing values percentage of train label 2 column : {y_train_arr[1].isnull().sum()*100/len(y_train)}%\")\n",
        "print(f\"Missing values percentage of valid label 2 column : {y_valid_arr[1].isnull().sum()*100/len(y_valid)}%\")"
      ]
    },
    {
      "cell_type": "markdown",
      "metadata": {
        "id": "7fk5YEg_VFn4"
      },
      "source": [
        "Since the missing values percentage of train data label 2 column and valid data label 2 column are low, missing values are deleted"
      ]
    },
    {
      "cell_type": "code",
      "execution_count": 11,
      "metadata": {
        "id": "G-B_C2UsVWJL"
      },
      "outputs": [],
      "source": [
        "train_data_missing_removed = train_data.dropna()\n",
        "valid_data_missing_removed = valid_data.dropna()\n",
        "train_data_missing_removed.reset_index(drop=True, inplace=True)\n",
        "valid_data_missing_removed.reset_index(drop=True, inplace=True)\n",
        "X_train, y_train = train_data.iloc[:, :-4], train_data.iloc[:, -4:]\n",
        "X_valid, y_valid = valid_data.iloc[:, :-4], valid_data.iloc[:, -4:]\n",
        "X_train_missing_removed, y_train_missing_removed = train_data_missing_removed.iloc[:, :-4], train_data_missing_removed.iloc[:, -4:]\n",
        "X_valid_missing_removed, y_valid_missing_removed = valid_data_missing_removed.iloc[:, :-4], valid_data_missing_removed.iloc[:, -4:]\n",
        "X_train_arr = [X_train, X_train_missing_removed, X_train, X_train]\n",
        "X_valid_arr = [X_valid, X_valid_missing_removed, X_valid, X_valid]\n",
        "X_test_arr = [X_test, X_test, X_test, X_test]"
      ]
    },
    {
      "cell_type": "code",
      "execution_count": 12,
      "metadata": {
        "id": "oJCtIpVJ8Zpj"
      },
      "outputs": [],
      "source": [
        "y_train_arr = [y_train.iloc[:, 0], y_train_missing_removed.iloc[:, 1], y_train.iloc[:, 2], y_train.iloc[:, 3]]\n",
        "y_valid_arr = [y_valid.iloc[:, 0], y_valid_missing_removed.iloc[:, 1], y_valid.iloc[:, 2], y_valid.iloc[:, 3]]"
      ]
    },
    {
      "cell_type": "markdown",
      "metadata": {
        "id": "ZdH9Za3L75pP"
      },
      "source": [
        "## Scaling"
      ]
    },
    {
      "cell_type": "markdown",
      "metadata": {
        "id": "S6-yXJBqTg2Y"
      },
      "source": [
        "\"RobustScaler\" standardizes the data, first using training data to calculate scaling parameters and then applying the same transformation to validation and test datasets for consistent scaling in machine learning modeling."
      ]
    },
    {
      "cell_type": "code",
      "execution_count": 13,
      "metadata": {
        "id": "fyDjlJbozBAc"
      },
      "outputs": [],
      "source": [
        "scaler = RobustScaler()\n",
        "for i in range(4):\n",
        "  X_train_arr[i] = pd.DataFrame(data=scaler.fit_transform(X_train_arr[i]), columns=X_train_arr[i].columns)\n",
        "  X_valid_arr[i] = pd.DataFrame(data=scaler.transform(X_valid_arr[i]), columns=X_valid_arr[i].columns)\n",
        "  X_test_arr[i] = pd.DataFrame(data=scaler.transform(X_test_arr[i]), columns=X_test_arr[i].columns)"
      ]
    },
    {
      "cell_type": "markdown",
      "metadata": {
        "id": "t8RLHXnT8UFr"
      },
      "source": [
        "# Data Visualization"
      ]
    },
    {
      "cell_type": "code",
      "execution_count": 14,
      "metadata": {
        "id": "TCR190Jv8F62"
      },
      "outputs": [],
      "source": [
        "def visualize_label(y, title, x_title, y_title='Number of rows'):\n",
        "  unique_classes, class_counts = np.unique(y, return_counts=True)\n",
        "  plt.bar(unique_classes, class_counts)\n",
        "  plt.xlabel(x_title)\n",
        "  plt.ylabel(y_title)\n",
        "  plt.title(title)\n",
        "  plt.show()"
      ]
    },
    {
      "cell_type": "code",
      "execution_count": 15,
      "metadata": {
        "colab": {
          "base_uri": "https://localhost:8080/",
          "height": 1000
        },
        "id": "thH0cqTx8Xmv",
        "outputId": "0ff96b2c-516e-4d86-9575-52697a8d06ac"
      },
      "outputs": [
        {
          "data": {
            "image/png": "[encoded data removed]",
            "text/plain": [
              "<Figure size 640x480 with 1 Axes>"
            ]
          },
          "metadata": {},
          "output_type": "display_data"
        },
        {
          "data": {
            "image/png": "[encoded data removed]",
            "text/plain": [
              "<Figure size 640x480 with 1 Axes>"
            ]
          },
          "metadata": {},
          "output_type": "display_data"
        },
        {
          "data": {
            "image/png": "[encoded data removed]",
            "text/plain": [
              "<Figure size 640x480 with 1 Axes>"
            ]
          },
          "metadata": {},
          "output_type": "display_data"
        },
        {
          "data": {
            "image/png": "[encoded data removed]",
            "text/plain": [
              "<Figure size 640x480 with 1 Axes>"
            ]
          },
          "metadata": {},
          "output_type": "display_data"
        }
      ],
      "source": [
        "visualize_label(y_train_arr[0], \"Number of rows versus Speaker ID\",\"Speaker ID\");\n",
        "visualize_label(y_train_arr[1], \"Number of rows versus Age\",\"Age\");\n",
        "visualize_label(y_train_arr[2], \"Number of rows versus Gender\",\"Gender\");\n",
        "visualize_label(y_train_arr[3], \"Number of rows versus Accent\",\"Accent\");"
      ]
    },
    {
      "cell_type": "markdown",
      "metadata": {
        "id": "LYuv5YY9Tjo3"
      },
      "source": [
        "The classes of label 1 are approximately uniformly balanced. In other 3 labes classes are inbalanced. To handle this, class weights are assigned in a latter stage"
      ]
    },
    {
      "cell_type": "markdown",
      "metadata": {
        "id": "8DctB7vz80vZ"
      },
      "source": [
        "# Feature Reduction"
      ]
    },
    {
      "cell_type": "markdown",
      "metadata": {
        "id": "o2H0l0O1-KN6"
      },
      "source": [
        "Principal Component Analysis (PCA) is a tool used to simplify data by reducing its complexity and selecting the most important features. In this context, it's being used to make the features simpler."
      ]
    },
    {
      "cell_type": "code",
      "execution_count": 16,
      "metadata": {
        "id": "GzyaBIm1842v"
      },
      "outputs": [],
      "source": [
        "def pca_reduce(X,pca, first_fit=False):\n",
        "  if first_fit:\n",
        "    X_pca = pca.fit_transform(X)\n",
        "  else:\n",
        "    X_pca = pca.transform(X)\n",
        "  return pd.DataFrame(data=X_pca, columns=[X.columns[i] for i in range(X_pca.shape[1])])"
      ]
    },
    {
      "cell_type": "code",
      "execution_count": 17,
      "metadata": {
        "id": "q-jUpShR86GG"
      },
      "outputs": [],
      "source": [
        "desired_variance_ratio = 0.95\n",
        "pca = PCA(n_components=desired_variance_ratio, svd_solver='full')\n",
        "X_train_after_reduction_arr = []\n",
        "X_valid_after_reduction_arr= []\n",
        "X_test_after_reduction_arr = []\n",
        "for i in range(4):\n",
        "  X_train_after_reduction_arr.append(pca_reduce(X_train_arr[i] ,pca, first_fit=True))\n",
        "  X_valid_after_reduction_arr.append(pca_reduce(X_valid_arr[i] ,pca))\n",
        "  X_test_after_reduction_arr.append(pca_reduce(X_test_arr[i] ,pca))"
      ]
    },
    {
      "cell_type": "markdown",
      "metadata": {
        "id": "by-VbMZPdwhA"
      },
      "source": [
        "## Useful Functions"
      ]
    },
    {
      "cell_type": "code",
      "execution_count": 18,
      "metadata": {
        "id": "ukYRTdCXdsie"
      },
      "outputs": [],
      "source": [
        "def predict(X, model):\n",
        "  y_pred = model.predict(X)\n",
        "  return pd.Series(y_pred)"
      ]
    },
    {
      "cell_type": "code",
      "execution_count": 19,
      "metadata": {
        "id": "WxR3bEuUd0er"
      },
      "outputs": [],
      "source": [
        "def find_accuracy(y_predicted, y_correct):\n",
        "  accuracy = accuracy_score(y_predicted, y_correct)\n",
        "  return accuracy"
      ]
    },
    {
      "cell_type": "markdown",
      "metadata": {
        "id": "hCZkK1_dwX3E"
      },
      "source": [
        "# Creating models and predicting"
      ]
    },
    {
      "cell_type": "markdown",
      "metadata": {
        "id": "REMDOTO4W9HA"
      },
      "source": [
        "Random Forest, kNN and SVC models were considered. After conducting several executions and comparing accuracies SVC models were selected over other two models."
      ]
    },
    {
      "cell_type": "markdown",
      "metadata": {
        "id": "o08IY56cYHuf"
      },
      "source": [
        "## Random Forest"
      ]
    },
    {
      "cell_type": "markdown",
      "metadata": {
        "id": "2BubxjZ-Yo6b"
      },
      "source": [
        "andom Forest is a practical machine learning approach frequently chosen for its straightforwardness and efficiency in addressing classification tasks."
      ]
    },
    {
      "cell_type": "markdown",
      "metadata": {
        "id": "2sNG4xfcYKMK"
      },
      "source": [
        "### Model creating"
      ]
    },
    {
      "cell_type": "code",
      "execution_count": 20,
      "metadata": {
        "id": "UPXLlG9zYL4z"
      },
      "outputs": [],
      "source": [
        "def random_forest(X, y, n_estimators=100, random_state=42):\n",
        "    class_weights = compute_class_weight('balanced', classes=np.unique(y), y=y)\n",
        "    class_weight_dict = {cls: weight for cls, weight in zip(np.unique(y), class_weights)}\n",
        "    model = RandomForestClassifier(n_estimators=n_estimators, random_state=random_state, class_weight=class_weight_dict)\n",
        "    model.fit(X, y)\n",
        "    return model"
      ]
    },
    {
      "cell_type": "code",
      "execution_count": 21,
      "metadata": {
        "id": "hzefm00TYRvh"
      },
      "outputs": [],
      "source": [
        "random_forest_model_arr = []\n",
        "for i in range(4):\n",
        "  random_forest_model_arr.append(random_forest(X_train_after_reduction_arr[i], y_train_arr[i]))"
      ]
    },
    {
      "cell_type": "markdown",
      "metadata": {
        "id": "ZEZxMTpQYap4"
      },
      "source": [
        "### Predicting for Valid data"
      ]
    },
    {
      "cell_type": "code",
      "execution_count": 22,
      "metadata": {
        "colab": {
          "base_uri": "https://localhost:8080/"
        },
        "id": "edwGV1xzYerV",
        "outputId": "d0f4d075-b50b-47c9-d542-e4464f2664eb"
      },
      "outputs": [
        {
          "name": "stdout",
          "output_type": "stream",
          "text": [
            "Accuracy score for label 1 : 0.7293333333333333\n",
            "Accuracy score for label 2 : 0.595108695652174\n",
            "Accuracy score for label 3 : 0.8933333333333333\n",
            "Accuracy score for label 4 : 0.7266666666666667\n"
          ]
        }
      ],
      "source": [
        "y_pred_for_valid_arr = [predict(X_valid_after_reduction_arr[i], random_forest_model_arr[i]) for i in range(4)]\n",
        "accuracy_for_valid_data_arr = [find_accuracy(y_pred_for_valid_arr[i], y_valid_arr[i]) for i in range(4)]\n",
        "for i in range(4):\n",
        "  print(f\"Accuracy score for label {i+1} : {accuracy_for_valid_data_arr[i]}\")"
      ]
    },
    {
      "cell_type": "markdown",
      "metadata": {
        "id": "e1EWZXL1XJP8"
      },
      "source": [
        "## kNN"
      ]
    },
    {
      "cell_type": "markdown",
      "metadata": {
        "id": "o2xc0_7xX1Gi"
      },
      "source": [
        "k-Nearest Neighbors (kNN) is a useful machine learning method often selected for its simplicity and effectiveness in handling classification tasks."
      ]
    },
    {
      "cell_type": "markdown",
      "metadata": {
        "id": "Pc-4YgHJXc0H"
      },
      "source": [
        "### Model creating"
      ]
    },
    {
      "cell_type": "code",
      "execution_count": 23,
      "metadata": {
        "id": "bxscARNJXH3a"
      },
      "outputs": [],
      "source": [
        "def knn(X, y, n_neighbors=5):\n",
        "    class_weights = compute_class_weight('balanced', classes=np.unique(y), y=y)\n",
        "    class_weight_dict = {cls: weight for cls, weight in zip(np.unique(y), class_weights)}\n",
        "    model = KNeighborsClassifier(n_neighbors=n_neighbors, weights='uniform')\n",
        "    model.fit(X, y)\n",
        "    return model"
      ]
    },
    {
      "cell_type": "code",
      "execution_count": 24,
      "metadata": {
        "id": "dimmFA7sXX8C"
      },
      "outputs": [],
      "source": [
        "knn_model_arr = []\n",
        "for i in range(4):\n",
        "  knn_model_arr.append(knn(X_train_after_reduction_arr[i], y_train_arr[i]))"
      ]
    },
    {
      "cell_type": "markdown",
      "metadata": {
        "id": "jpeIx5nQXhga"
      },
      "source": [
        "### Predicting for Valid data"
      ]
    },
    {
      "cell_type": "code",
      "execution_count": 25,
      "metadata": {
        "colab": {
          "base_uri": "https://localhost:8080/"
        },
        "id": "WZ7obzprXiZ-",
        "outputId": "b3d56e1e-9e57-4af6-e2b6-8f393b64ff1f"
      },
      "outputs": [
        {
          "name": "stdout",
          "output_type": "stream",
          "text": [
            "Accuracy score for label 1 : 0.8306666666666667\n",
            "Accuracy score for label 2 : 0.8396739130434783\n",
            "Accuracy score for label 3 : 0.9866666666666667\n",
            "Accuracy score for label 4 : 0.9186666666666666\n"
          ]
        }
      ],
      "source": [
        "y_pred_for_valid_arr = [predict(X_valid_after_reduction_arr[i], knn_model_arr[i]) for i in range(4)]\n",
        "accuracy_for_valid_data_arr = [find_accuracy(y_pred_for_valid_arr[i], y_valid_arr[i]) for i in range(4)]\n",
        "for i in range(4):\n",
        "  print(f\"Accuracy score for label {i+1} : {accuracy_for_valid_data_arr[i]}\")"
      ]
    },
    {
      "cell_type": "markdown",
      "metadata": {
        "id": "qVIV9DMNfAEY"
      },
      "source": [
        "## SVC"
      ]
    },
    {
      "cell_type": "markdown",
      "metadata": {
        "id": "mAc_Eg6A_JmZ"
      },
      "source": [
        "Support Vector Classification (SVC) is a machine learning technique used in modeling. It is chosen for its effectiveness in solving classification problems."
      ]
    },
    {
      "cell_type": "markdown",
      "metadata": {
        "id": "5oeWYckz_l5B"
      },
      "source": [
        "### Hyperparameter tuning"
      ]
    },
    {
      "cell_type": "markdown",
      "metadata": {
        "id": "irPITKmeUoA_"
      },
      "source": [
        "The SVM model is tuned using a randomized search approach. Hyperparameter values for 'C', 'gamma', 'kernel' , and 'degree' are explored. RandomizedSearchCV with 100 iterations, 5-fold cross-validation, and parallel processing is applied to find the best combination of hyperparameters for the SVM model."
      ]
    },
    {
      "cell_type": "code",
      "execution_count": 30,
      "metadata": {
        "id": "BiQOhaUE_jHL"
      },
      "outputs": [],
      "source": [
        "C = [0.1, 1, 10, 100]\n",
        "gamma = ['scale', 'auto', 0.001, 0.01, 0.1, 1.0]\n",
        "kernel = ['linear', 'rbf', 'poly']\n",
        "degree = [2, 3, 4]\n",
        "svc_tuning_model = SVC()\n",
        "param_grid = {\n",
        "    'C': C,\n",
        "    'gamma': gamma,\n",
        "    'kernel': kernel,\n",
        "    'degree': degree,\n",
        "}\n",
        "random_search = RandomizedSearchCV(\n",
        "    svc_tuning_model,\n",
        "    param_distributions=param_grid,\n",
        "    n_iter=100,\n",
        "    cv=5,\n",
        "    n_jobs=-1,\n",
        "    verbose=1,\n",
        "    random_state=40\n",
        ")\n",
        "for i in range(4):\n",
        "  random_search.fit(X_train_after_reduction_arr[i], y_train_arr[i])\n",
        "  print(random_search.best_params)"
      ]
    },
    {
      "cell_type": "markdown",
      "metadata": {
        "id": "i3x1YUyz_xx5"
      },
      "source": [
        "### Model creating"
      ]
    },
    {
      "cell_type": "markdown",
      "metadata": {
        "id": "P8ouKC3pPd9o"
      },
      "source": [
        "class weights are applied to address the issue of imbalanced classes, ensuring that the model effectively learns from all classes in the dataset."
      ]
    },
    {
      "cell_type": "code",
      "execution_count": 26,
      "metadata": {
        "id": "RWFYtRCQPbrq"
      },
      "outputs": [],
      "source": [
        "def svm(X, y):\n",
        "  class_weights = compute_class_weight('balanced', classes=np.unique(y), y=y)\n",
        "  class_weight_dict = {cls: weight for cls, weight in zip(np.unique(y), class_weights)}\n",
        "  model = SVC(kernel='rbf', random_state=40, class_weight=class_weight_dict, C=100)\n",
        "  model.fit(X, y)\n",
        "  return model"
      ]
    },
    {
      "cell_type": "code",
      "execution_count": 27,
      "metadata": {},
      "outputs": [],
      "source": [
        "def svm_linear(X, y):\n",
        "  class_weights = compute_class_weight('balanced', classes=np.unique(y), y=y)\n",
        "  class_weight_dict = {cls: weight for cls, weight in zip(np.unique(y), class_weights)}\n",
        "  model = SVC(kernel='linear', random_state=40, class_weight=class_weight_dict)\n",
        "  model.fit(X, y)\n",
        "  return model"
      ]
    },
    {
      "cell_type": "code",
      "execution_count": 28,
      "metadata": {
        "id": "mt8_ibq7xed4"
      },
      "outputs": [],
      "source": [
        "svm_model_arr = []\n",
        "for i in range(4):\n",
        "  svm_model_arr.append(svm(X_train_after_reduction_arr[i], y_train_arr[i]))"
      ]
    },
    {
      "cell_type": "markdown",
      "metadata": {
        "id": "xWA2qy8cAd4L"
      },
      "source": [
        "### Predicting for Valid data"
      ]
    },
    {
      "cell_type": "code",
      "execution_count": 29,
      "metadata": {
        "colab": {
          "base_uri": "https://localhost:8080/"
        },
        "id": "bdDwe4SeAiir",
        "outputId": "a13ec992-fc53-45d2-b339-82e389ff5f93"
      },
      "outputs": [
        {
          "name": "stdout",
          "output_type": "stream",
          "text": [
            "Accuracy score for label 1 : 0.96\n",
            "Accuracy score for label 2 : 0.9320652173913043\n",
            "Accuracy score for label 3 : 0.9973333333333333\n",
            "Accuracy score for label 4 : 0.9653333333333334\n"
          ]
        }
      ],
      "source": [
        "y_pred_for_valid_arr = [predict(X_valid_after_reduction_arr[i], svm_model_arr[i]) for i in range(4)]\n",
        "accuracy_for_valid_data_arr = [find_accuracy(y_pred_for_valid_arr[i], y_valid_arr[i]) for i in range(4)]\n",
        "for i in range(4):\n",
        "  print(f\"Accuracy score for label {i+1} : {accuracy_for_valid_data_arr[i]}\")"
      ]
    },
    {
      "cell_type": "markdown",
      "metadata": {
        "id": "i9YFOneR_bPD"
      },
      "source": [
        "# Evaluating"
      ]
    },
    {
      "cell_type": "markdown",
      "metadata": {
        "id": "3-0vOE97_6j2"
      },
      "source": [
        "## Cross Validation"
      ]
    },
    {
      "cell_type": "markdown",
      "metadata": {
        "id": "Z2rVsoHnU8_l"
      },
      "source": [
        "This computes and displays the cross-validation scores for each of the four SVM models for their respective labels."
      ]
    },
    {
      "cell_type": "code",
      "execution_count": 35,
      "metadata": {
        "colab": {
          "base_uri": "https://localhost:8080/"
        },
        "id": "7ezYX_64XzXD",
        "outputId": "44425349-a573-4d39-946a-cdd4e7b9e07e"
      },
      "outputs": [
        {
          "name": "stdout",
          "output_type": "stream",
          "text": [
            "Cross validations scores for label 0 : [0.917777   0.92268583 0.91830295 0.91497195 0.91532258]\n",
            "Cross validations scores for label 1 : [0.41690442 0.625      0.65870185 0.65691869 0.4646933 ]\n",
            "Cross validations scores for label 2 : [0.96248247 0.99246143 0.98702665 0.97475456 0.99176017]\n",
            "Cross validations scores for label 3 : [0.89463534 0.88008415 0.88429173 0.89533661 0.85974755]\n"
          ]
        }
      ],
      "source": [
        "for i in range(4):\n",
        "  scores = cross_val_score(svm_model_arr[i],X_train_after_reduction_arr[i], y_train_arr[i], cv=5)\n",
        "  print(f\"Cross validations scores for label {i} : {scores}\")"
      ]
    },
    {
      "cell_type": "markdown",
      "metadata": {
        "id": "lMWVDwy3AQg0"
      },
      "source": [
        "## Heat Maps of the Confusion Matrixes"
      ]
    },
    {
      "cell_type": "markdown",
      "metadata": {
        "id": "8PNABt3OVe_7"
      },
      "source": [
        " This creates a heatmap representation of a confusion matrix. Then, it calculates and visualizes confusion matrices for different labels: \"Speaker ID,\" \"Age,\" \"Gender,\" and \"Accent.\""
      ]
    },
    {
      "cell_type": "code",
      "execution_count": 30,
      "metadata": {
        "id": "Z3zN9llBBYxt"
      },
      "outputs": [],
      "source": [
        "def visualize_confusion(confusion, title):\n",
        "  plt.figure(figsize=(20, 10))\n",
        "  sns.heatmap(confusion, annot=True, fmt=\"d\", cmap=\"Blues\", cbar=False)\n",
        "  plt.xlabel(\"Predicted\")\n",
        "  plt.ylabel(\"Actual\")\n",
        "  plt.title(f\"Confusion Matrix for {title}\")\n",
        "  plt.show()"
      ]
    },
    {
      "cell_type": "code",
      "execution_count": 31,
      "metadata": {
        "id": "_MZMD99KATnC"
      },
      "outputs": [],
      "source": [
        "confusion_arr = [confusion_matrix(y_valid_arr[i], y_pred_for_valid_arr[i]) for i in range(4)]"
      ]
    },
    {
      "cell_type": "code",
      "execution_count": 32,
      "metadata": {
        "colab": {
          "base_uri": "https://localhost:8080/",
          "height": 1000
        },
        "id": "JTh8VyA7KVH6",
        "outputId": "a7ab12c9-3ac4-4df6-d13c-32338c6d5042"
      },
      "outputs": [
        {
          "data": {
            "image/png": "[encoded data removed]",
            "text/plain": [
              "<Figure size 2000x1000 with 1 Axes>"
            ]
          },
          "metadata": {},
          "output_type": "display_data"
        },
        {
          "data": {
            "image/png": "[encoded data removed]",
            "text/plain": [
              "<Figure size 2000x1000 with 1 Axes>"
            ]
          },
          "metadata": {},
          "output_type": "display_data"
        },
        {
          "data": {
            "image/png": "[encoded data removed]",
            "text/plain": [
              "<Figure size 2000x1000 with 1 Axes>"
            ]
          },
          "metadata": {},
          "output_type": "display_data"
        },
        {
          "data": {
            "image/png": "[encoded data removed]",
            "text/plain": [
              "<Figure size 2000x1000 with 1 Axes>"
            ]
          },
          "metadata": {},
          "output_type": "display_data"
        }
      ],
      "source": [
        "visualize_confusion(confusion_arr[0], \"Speaker ID\")\n",
        "visualize_confusion(confusion_arr[1], \"Age\")\n",
        "visualize_confusion(confusion_arr[2], \"Gender\")\n",
        "visualize_confusion(confusion_arr[3], \"Accent\")"
      ]
    },
    {
      "cell_type": "markdown",
      "metadata": {
        "id": "fpnQkMoNVE_u"
      },
      "source": [
        "## Classification Reports"
      ]
    },
    {
      "cell_type": "markdown",
      "metadata": {
        "id": "x6vrDxRLVrvT"
      },
      "source": [
        "The predictions are generated for validation data using SVM models for four different labels. Then it computes and prints the classification report, including metrics like precision, recall, and F1-score, for each label."
      ]
    },
    {
      "cell_type": "code",
      "execution_count": 33,
      "metadata": {
        "colab": {
          "base_uri": "https://localhost:8080/"
        },
        "id": "sXEG6HBNk4Ma",
        "outputId": "14a9e35d-64eb-42da-8a9d-1492affeed3c"
      },
      "outputs": [
        {
          "name": "stdout",
          "output_type": "stream",
          "text": [
            "Classification Report for Label 1\n",
            "              precision    recall  f1-score   support\n",
            "\n",
            "           1       1.00      1.00      1.00        13\n",
            "           2       1.00      1.00      1.00         9\n",
            "           3       1.00      1.00      1.00        12\n",
            "           4       1.00      1.00      1.00        16\n",
            "           5       1.00      0.94      0.97        18\n",
            "           6       1.00      1.00      1.00         9\n",
            "           7       0.89      0.94      0.91        17\n",
            "           8       1.00      0.93      0.96        14\n",
            "           9       1.00      0.91      0.95        11\n",
            "          10       1.00      1.00      1.00         8\n",
            "          11       0.94      0.89      0.92        19\n",
            "          12       1.00      1.00      1.00         7\n",
            "          13       1.00      0.91      0.95        11\n",
            "          14       0.93      0.93      0.93        15\n",
            "          15       1.00      0.88      0.94        17\n",
            "          16       1.00      0.93      0.96        14\n",
            "          17       0.93      1.00      0.97        14\n",
            "          18       0.95      0.95      0.95        19\n",
            "          19       0.93      0.87      0.90        15\n",
            "          20       1.00      0.91      0.95        11\n",
            "          21       0.93      0.93      0.93        14\n",
            "          22       0.92      1.00      0.96        11\n",
            "          23       0.91      1.00      0.95        10\n",
            "          24       0.92      1.00      0.96        12\n",
            "          25       1.00      0.82      0.90        11\n",
            "          26       1.00      1.00      1.00         7\n",
            "          27       0.94      1.00      0.97        16\n",
            "          28       1.00      1.00      1.00        11\n",
            "          29       0.93      0.87      0.90        15\n",
            "          30       0.88      0.88      0.88         8\n",
            "          31       0.92      1.00      0.96        12\n",
            "          32       1.00      1.00      1.00         9\n",
            "          33       0.75      1.00      0.86         6\n",
            "          34       1.00      1.00      1.00        13\n",
            "          35       0.80      1.00      0.89         8\n",
            "          36       0.86      1.00      0.92        18\n",
            "          37       1.00      0.94      0.97        16\n",
            "          38       1.00      1.00      1.00        11\n",
            "          39       1.00      1.00      1.00        13\n",
            "          40       1.00      0.92      0.96        12\n",
            "          41       1.00      1.00      1.00        10\n",
            "          42       0.92      1.00      0.96        12\n",
            "          43       1.00      1.00      1.00        12\n",
            "          44       1.00      0.95      0.97        19\n",
            "          45       0.93      1.00      0.97        14\n",
            "          46       0.92      1.00      0.96        11\n",
            "          47       1.00      0.88      0.93         8\n",
            "          48       1.00      0.94      0.97        17\n",
            "          49       0.92      0.92      0.92        13\n",
            "          50       1.00      1.00      1.00        13\n",
            "          51       0.80      1.00      0.89         8\n",
            "          52       1.00      1.00      1.00        11\n",
            "          53       1.00      1.00      1.00        15\n",
            "          54       1.00      0.89      0.94         9\n",
            "          55       1.00      1.00      1.00         8\n",
            "          56       0.90      0.90      0.90        10\n",
            "          57       1.00      1.00      1.00        18\n",
            "          58       1.00      0.95      0.97        20\n",
            "          59       0.91      1.00      0.95        10\n",
            "          60       1.00      1.00      1.00        10\n",
            "\n",
            "    accuracy                           0.96       750\n",
            "   macro avg       0.96      0.96      0.96       750\n",
            "weighted avg       0.96      0.96      0.96       750\n",
            "\n",
            "\n",
            "Classification Report for Label 2\n",
            "              precision    recall  f1-score   support\n",
            "\n",
            "        22.0       0.92      0.92      0.92        36\n",
            "        23.0       0.89      0.92      0.90        71\n",
            "        24.0       0.88      0.96      0.92        46\n",
            "        25.0       0.95      0.87      0.91        79\n",
            "        26.0       0.92      0.97      0.94       115\n",
            "        27.0       0.95      0.88      0.91        81\n",
            "        28.0       0.91      0.93      0.92        46\n",
            "        29.0       0.98      0.93      0.95        45\n",
            "        30.0       0.92      0.96      0.94        48\n",
            "        31.0       0.91      0.95      0.93        65\n",
            "        32.0       1.00      1.00      1.00        11\n",
            "        33.0       1.00      0.97      0.98        30\n",
            "        34.0       1.00      0.91      0.95        11\n",
            "        35.0       1.00      0.91      0.95        11\n",
            "        36.0       1.00      1.00      1.00         8\n",
            "        41.0       1.00      1.00      1.00        14\n",
            "        61.0       1.00      0.95      0.97        19\n",
            "\n",
            "    accuracy                           0.93       736\n",
            "   macro avg       0.95      0.94      0.95       736\n",
            "weighted avg       0.93      0.93      0.93       736\n",
            "\n",
            "\n",
            "Classification Report for Label 3\n",
            "              precision    recall  f1-score   support\n",
            "\n",
            "           0       0.99      1.00      0.99       142\n",
            "           1       1.00      1.00      1.00       608\n",
            "\n",
            "    accuracy                           1.00       750\n",
            "   macro avg       0.99      1.00      1.00       750\n",
            "weighted avg       1.00      1.00      1.00       750\n",
            "\n",
            "\n",
            "Classification Report for Label 4\n",
            "              precision    recall  f1-score   support\n",
            "\n",
            "           0       1.00      0.95      0.98        21\n",
            "           1       1.00      0.82      0.90        11\n",
            "           2       0.96      0.96      0.96        27\n",
            "           3       1.00      0.88      0.93         8\n",
            "           4       1.00      0.87      0.93        15\n",
            "           5       0.90      0.82      0.86        11\n",
            "           6       0.96      0.99      0.98       532\n",
            "           7       0.97      0.88      0.92        32\n",
            "           8       0.94      0.84      0.89        19\n",
            "           9       1.00      0.82      0.90        17\n",
            "          10       1.00      0.90      0.95        10\n",
            "          11       1.00      0.91      0.95        11\n",
            "          12       0.96      0.92      0.94        26\n",
            "          13       1.00      1.00      1.00        10\n",
            "\n",
            "    accuracy                           0.97       750\n",
            "   macro avg       0.98      0.90      0.93       750\n",
            "weighted avg       0.97      0.97      0.96       750\n",
            "\n",
            "\n"
          ]
        }
      ],
      "source": [
        "y_pred_for_X_valid_arr = []\n",
        "accuracy_for_valid_data_arr = []\n",
        "for i in range(4):\n",
        "  y_pred_for_X_valid_arr.append(predict(X_valid_after_reduction_arr[i], svm_model_arr[i]))\n",
        "  accuracy_for_valid_data_arr.append(find_accuracy(y_pred_for_X_valid_arr[i], y_valid_arr[i]))\n",
        "  print(f\"Classification Report for Label {i+1}\")\n",
        "  print(classification_report(y_valid_arr[i], y_pred_for_X_valid_arr[i]))\n",
        "  print()\n"
      ]
    },
    {
      "cell_type": "markdown",
      "metadata": {
        "id": "o7wQK3QLK1-2"
      },
      "source": [
        "## Accuracies for valid data"
      ]
    },
    {
      "cell_type": "code",
      "execution_count": 34,
      "metadata": {
        "colab": {
          "base_uri": "https://localhost:8080/"
        },
        "id": "Pb9nVOWXK1sj",
        "outputId": "c4e648ed-3ab0-4053-ac4c-a69f1843d7c3"
      },
      "outputs": [
        {
          "name": "stdout",
          "output_type": "stream",
          "text": [
            "Label 1 accuracy for valid data : 0.96\n",
            "Label 2 accuracy for valid data : 0.9320652173913043\n",
            "Label 3 accuracy for valid data : 0.9973333333333333\n",
            "Label 4 accuracy for valid data : 0.9653333333333334\n"
          ]
        }
      ],
      "source": [
        "for i in range(4):\n",
        "  print(f\"Label {i+1} accuracy for valid data : {accuracy_for_valid_data_arr[i]}\")"
      ]
    },
    {
      "cell_type": "markdown",
      "metadata": {
        "id": "UXRteU6FNDrf"
      },
      "source": [
        "# Explainability (Interpreting the label predictions and any cross-relations with labels)"
      ]
    },
    {
      "cell_type": "markdown",
      "metadata": {},
      "source": [
        "Explaning rbf kernel SVM models are complex. Therefore, to describe the explainability, the linear kernel SVC models are used."
      ]
    },
    {
      "cell_type": "code",
      "execution_count": 35,
      "metadata": {},
      "outputs": [],
      "source": [
        "svm_linear_model_arr = [svm_linear(X_train_after_reduction_arr[i], y_train_arr[i]) for i in range(4)]"
      ]
    },
    {
      "cell_type": "markdown",
      "metadata": {
        "id": "ni77hoDz4b_P"
      },
      "source": [
        "## SHAP"
      ]
    },
    {
      "cell_type": "markdown",
      "metadata": {
        "id": "tV4i9uCHAsM8"
      },
      "source": [
        "SHAP is a framework and a set of techniques used in machine learning to explain the predictions made by complex models, such as SVM."
      ]
    },
    {
      "cell_type": "code",
      "execution_count": null,
      "metadata": {},
      "outputs": [],
      "source": [
        "for i in range(4):\n",
        "  explainer = shap.Explainer(svm_linear_model_arr[i], X_train_after_reduction_arr[i])\n",
        "  instance_index = 0\n",
        "  shap_values = explainer.shap_values(X_test_after_reduction_arr[i])\n",
        "  shap.summary_plot(shap_values, X_test_after_reduction_arr[i])\n",
        "  shap.summary_plot(shap_values)"
      ]
    },
    {
      "cell_type": "markdown",
      "metadata": {
        "id": "k0C_QKbMBo2Y"
      },
      "source": [
        "However, due to the high RAM usage of shap.summary_plot and to the complexity, using SHAP was not very effective."
      ]
    },
    {
      "cell_type": "markdown",
      "metadata": {
        "id": "8oL4fendPISD"
      },
      "source": [
        "## Using weights assigned to the features"
      ]
    },
    {
      "cell_type": "markdown",
      "metadata": {
        "id": "2r6xTuT0Q7YG"
      },
      "source": [
        "SVC.coef_ are weights assigned to the features when kernel=\"linear\"."
      ]
    },
    {
      "cell_type": "code",
      "execution_count": 43,
      "metadata": {
        "id": "EPBJ9hh1Oeau"
      },
      "outputs": [],
      "source": [
        "def print_top_weight_features(svm_model, n_classes):\n",
        "  coefficients = svm_model.coef_\n",
        "  top_weights = []\n",
        "  for class_A in range(n_classes):\n",
        "    for class_B in range(class_A + 1, n_classes):\n",
        "        index = int(class_A * (2 * n_classes - class_A - 1) / 2 + class_B - class_A - 1)\n",
        "        for feature_index, weight in enumerate(coefficients[index]):\n",
        "            absolute_weight = np.abs(weight)\n",
        "            if len(top_weights) < 20:\n",
        "                heapq.heappush(top_weights, (absolute_weight, feature_index, class_A, class_B, weight))\n",
        "            else:\n",
        "                if absolute_weight > top_weights[0][0]:\n",
        "                    heapq.heappop(top_weights)\n",
        "                    heapq.heappush(top_weights, (absolute_weight, feature_index, class_A, class_B, weight))\n",
        "  values_to_print = []\n",
        "  for i in range(20):\n",
        "    values_to_print.insert(0, heapq.heappop(top_weights))\n",
        "  i = 0\n",
        "  for (absolute_weight, feature_index, class_A, class_B, weight) in values_to_print:\n",
        "    print(f\"Top {i + 1}: The weight assigned to feature {feature_index} between class {class_A} and class {class_B} is {weight}\")\n",
        "    i+=1"
      ]
    },
    {
      "cell_type": "code",
      "execution_count": 44,
      "metadata": {
        "colab": {
          "base_uri": "https://localhost:8080/"
        },
        "id": "WkorC0tJOXkI",
        "outputId": "3d2387db-e690-4f68-cade-37bba7cd06ee"
      },
      "outputs": [
        {
          "name": "stdout",
          "output_type": "stream",
          "text": [
            "\n",
            "For the Class label 1\n"
          ]
        },
        {
          "name": "stdout",
          "output_type": "stream",
          "text": [
            "Top 1: The weight assigned to feature 48 between class 36 and class 41 is 0.5734605670982543\n",
            "Top 2: The weight assigned to feature 144 between class 30 and class 38 is 0.5314219954962592\n",
            "Top 3: The weight assigned to feature 15 between class 3 and class 30 is -0.5311425843004076\n",
            "Top 4: The weight assigned to feature 76 between class 35 and class 57 is 0.5240120079592278\n",
            "Top 5: The weight assigned to feature 21 between class 0 and class 20 is -0.5225308540305139\n",
            "Top 6: The weight assigned to feature 15 between class 3 and class 54 is -0.5179027174696595\n",
            "Top 7: The weight assigned to feature 24 between class 32 and class 37 is -0.509898398812197\n",
            "Top 8: The weight assigned to feature 15 between class 23 and class 46 is 0.5076319208927043\n",
            "Top 9: The weight assigned to feature 15 between class 9 and class 30 is -0.5062633954803265\n",
            "Top 10: The weight assigned to feature 21 between class 20 and class 46 is 0.5013931252036179\n",
            "Top 11: The weight assigned to feature 43 between class 2 and class 32 is 0.49967302462494956\n",
            "Top 12: The weight assigned to feature 19 between class 23 and class 25 is 0.49584209155747255\n",
            "Top 13: The weight assigned to feature 37 between class 30 and class 40 is -0.4933284080261139\n",
            "Top 14: The weight assigned to feature 90 between class 3 and class 48 is -0.4924505252305162\n",
            "Top 15: The weight assigned to feature 15 between class 3 and class 38 is -0.48986910063556705\n",
            "Top 16: The weight assigned to feature 128 between class 0 and class 4 is -0.48960154346006723\n",
            "Top 17: The weight assigned to feature 21 between class 0 and class 34 is -0.48700169334473337\n",
            "Top 18: The weight assigned to feature 15 between class 30 and class 48 is 0.4859746718991159\n",
            "Top 19: The weight assigned to feature 43 between class 32 and class 47 is -0.48445717292458323\n",
            "Top 20: The weight assigned to feature 15 between class 30 and class 46 is 0.4839199758621327\n",
            "\n",
            "For the Class label 2\n",
            "Top 1: The weight assigned to feature 207 between class 7 and class 9 is 1.925057135480201\n",
            "Top 2: The weight assigned to feature 266 between class 0 and class 7 is 1.7072895764773734\n",
            "Top 3: The weight assigned to feature 262 between class 5 and class 7 is -1.677948757833419\n",
            "Top 4: The weight assigned to feature 23 between class 2 and class 9 is 1.6776353054949045\n",
            "Top 5: The weight assigned to feature 238 between class 6 and class 8 is 1.6625207246102218\n",
            "Top 6: The weight assigned to feature 109 between class 2 and class 9 is 1.637782622299802\n",
            "Top 7: The weight assigned to feature 227 between class 0 and class 9 is -1.6115699973454103\n",
            "Top 8: The weight assigned to feature 23 between class 2 and class 7 is 1.6092836959130015\n",
            "Top 9: The weight assigned to feature 154 between class 1 and class 7 is -1.5759196595251426\n",
            "Top 10: The weight assigned to feature 274 between class 5 and class 7 is 1.550560767741946\n",
            "Top 11: The weight assigned to feature 88 between class 0 and class 1 is -1.5319179996393704\n",
            "Top 12: The weight assigned to feature 274 between class 0 and class 9 is -1.5069708200976044\n",
            "Top 13: The weight assigned to feature 295 between class 2 and class 8 is -1.4962075531662924\n",
            "Top 14: The weight assigned to feature 279 between class 2 and class 3 is 1.4749902478226018\n",
            "Top 15: The weight assigned to feature 183 between class 2 and class 6 is 1.4606105478754539\n",
            "Top 16: The weight assigned to feature 111 between class 3 and class 6 is 1.4605448485047137\n",
            "Top 17: The weight assigned to feature 168 between class 0 and class 1 is 1.4270247329135575\n",
            "Top 18: The weight assigned to feature 234 between class 0 and class 9 is 1.4176284674095154\n",
            "Top 19: The weight assigned to feature 148 between class 0 and class 7 is 1.4064501698754093\n",
            "Top 20: The weight assigned to feature 171 between class 1 and class 7 is -1.4013057871177317\n",
            "\n",
            "For the Class label 3\n",
            "Top 1: The weight assigned to feature 17 between class 0 and class 1 is -2.44684784082718\n",
            "Top 2: The weight assigned to feature 19 between class 0 and class 1 is 2.327274700654755\n",
            "Top 3: The weight assigned to feature 11 between class 0 and class 1 is -2.308476573160048\n",
            "Top 4: The weight assigned to feature 20 between class 0 and class 1 is -2.108223008462342\n",
            "Top 5: The weight assigned to feature 90 between class 0 and class 1 is 1.9663862923078144\n",
            "Top 6: The weight assigned to feature 15 between class 0 and class 1 is 1.7994618663941284\n",
            "Top 7: The weight assigned to feature 18 between class 0 and class 1 is -1.7611132501998454\n",
            "Top 8: The weight assigned to feature 13 between class 0 and class 1 is -1.759247360835658\n",
            "Top 9: The weight assigned to feature 282 between class 0 and class 1 is 1.5978166153493036\n",
            "Top 10: The weight assigned to feature 61 between class 0 and class 1 is -1.5246159066485196\n",
            "Top 11: The weight assigned to feature 308 between class 0 and class 1 is 1.470860426170524\n",
            "Top 12: The weight assigned to feature 71 between class 0 and class 1 is -1.4186381796846044\n",
            "Top 13: The weight assigned to feature 30 between class 0 and class 1 is 1.4143947922901143\n",
            "Top 14: The weight assigned to feature 73 between class 0 and class 1 is -1.326093654048851\n",
            "Top 15: The weight assigned to feature 16 between class 0 and class 1 is 1.3084502248646186\n",
            "Top 16: The weight assigned to feature 27 between class 0 and class 1 is -1.301442908393791\n",
            "Top 17: The weight assigned to feature 31 between class 0 and class 1 is 1.301103830683008\n",
            "Top 18: The weight assigned to feature 247 between class 0 and class 1 is -1.2981932513468946\n",
            "Top 19: The weight assigned to feature 112 between class 0 and class 1 is 1.2930960347386444\n",
            "Top 20: The weight assigned to feature 12 between class 0 and class 1 is -1.2898554044792467\n",
            "\n",
            "For the Class label 4\n",
            "Top 1: The weight assigned to feature 219 between class 6 and class 7 is -1.337028656960877\n",
            "Top 2: The weight assigned to feature 116 between class 6 and class 7 is 1.175842483563482\n",
            "Top 3: The weight assigned to feature 50 between class 1 and class 6 is 1.1755677441795864\n",
            "Top 4: The weight assigned to feature 230 between class 0 and class 6 is -1.1524970848443257\n",
            "Top 5: The weight assigned to feature 37 between class 6 and class 7 is -1.129675957949864\n",
            "Top 6: The weight assigned to feature 107 between class 3 and class 6 is 1.1158896642521725\n",
            "Top 7: The weight assigned to feature 273 between class 1 and class 6 is -1.1078200877483373\n",
            "Top 8: The weight assigned to feature 215 between class 6 and class 7 is 1.0928517885738174\n",
            "Top 9: The weight assigned to feature 108 between class 6 and class 7 is -1.0907540930762565\n",
            "Top 10: The weight assigned to feature 234 between class 0 and class 6 is 1.0899994410959941\n",
            "Top 11: The weight assigned to feature 188 between class 0 and class 6 is 1.0750548499759933\n",
            "Top 12: The weight assigned to feature 291 between class 6 and class 7 is -1.0652550606708724\n",
            "Top 13: The weight assigned to feature 35 between class 0 and class 6 is -1.051456360738058\n",
            "Top 14: The weight assigned to feature 280 between class 6 and class 12 is 1.0289109073259137\n",
            "Top 15: The weight assigned to feature 37 between class 6 and class 10 is -1.014925853052283\n",
            "Top 16: The weight assigned to feature 108 between class 7 and class 12 is 0.96742104152602\n",
            "Top 17: The weight assigned to feature 190 between class 0 and class 6 is 0.9627686338436847\n",
            "Top 18: The weight assigned to feature 212 between class 0 and class 6 is 0.9611567598267374\n",
            "Top 19: The weight assigned to feature 59 between class 0 and class 6 is 0.9592463840122072\n",
            "Top 20: The weight assigned to feature 36 between class 6 and class 10 is -0.9576577758401479\n"
          ]
        }
      ],
      "source": [
        "for i in range(4):\n",
        "  print(f\"\\nFor the Class label {i+1}\")\n",
        "  print_top_weight_features(svm_linear_model_arr[i], len(y_train_arr[i].unique()))\n"
      ]
    },
    {
      "cell_type": "markdown",
      "metadata": {},
      "source": [
        "According to the above outputs, for the label 1, features 97, 121, 37, 42 and 144 affects more than other features. For the label 2, features 59, 146, 20, 92 and 119 affects more than other features. For the label 3, features 9, 16, 124, 54 and 27 affects more than other features. For the label 4, features 62, 134, 144, 36 and 62 affects more than other features."
      ]
    },
    {
      "cell_type": "markdown",
      "metadata": {
        "id": "W1aAbM0BP6Mj"
      },
      "source": [
        "## Using constants in the decision function"
      ]
    },
    {
      "cell_type": "markdown",
      "metadata": {
        "id": "NijTDX6MQ-N7"
      },
      "source": [
        "SVC.intercept_ are constants in decision function."
      ]
    },
    {
      "cell_type": "code",
      "execution_count": 45,
      "metadata": {
        "id": "Cwgxg3TsP46v"
      },
      "outputs": [],
      "source": [
        "def print_top_constants(svm_model, n_classes, binary=False):\n",
        "  intercept = svm_model.intercept_\n",
        "  top_constants = []\n",
        "  for class_A in range(n_classes):\n",
        "    for class_B in range(class_A + 1, n_classes):\n",
        "        index = int(class_A * (2 * n_classes - class_A - 1) / 2 + class_B - class_A - 1)\n",
        "        intercept_value = intercept[index]\n",
        "        absolute_intercept_value = np.abs(intercept[index])\n",
        "        if len(top_constants) < 20:\n",
        "            heapq.heappush(top_constants, (absolute_intercept_value, intercept_value, class_A, class_B))\n",
        "        else:\n",
        "            if absolute_intercept_value > top_constants[0][0]:\n",
        "                heapq.heappop(top_constants)\n",
        "                heapq.heappush(top_constants, (absolute_intercept_value, intercept_value, class_A, class_B))\n",
        "  values_to_print = []\n",
        "  if binary:\n",
        "     values_to_print.append(top_constants[0])\n",
        "  else:\n",
        "    for i in range(20):\n",
        "      values_to_print.insert(0, heapq.heappop(top_constants))\n",
        "  i = 0\n",
        "  for (absolute_intercept_value, intercept_value, class_A, class_B) in values_to_print:\n",
        "    print(f\"Top {i + 1}: Intercept/Constant in the decision function is {intercept_value} between the classes {class_A} and {class_B}\")\n",
        "    i+=1"
      ]
    },
    {
      "cell_type": "code",
      "execution_count": 46,
      "metadata": {
        "colab": {
          "base_uri": "https://localhost:8080/"
        },
        "id": "CWFcpqkUQojA",
        "outputId": "47e2abfd-a30f-447d-fbad-f701849a143c"
      },
      "outputs": [
        {
          "name": "stdout",
          "output_type": "stream",
          "text": [
            "\n",
            "For the Class Label 1\n",
            "Top 1: Intercept/Constant in the decision function is -2.594165206162672 between the classes 25 and 46\n",
            "Top 2: Intercept/Constant in the decision function is 2.433268950669203 between the classes 0 and 25\n",
            "Top 3: Intercept/Constant in the decision function is -2.263527514497828 between the classes 21 and 34\n",
            "Top 4: Intercept/Constant in the decision function is -2.1894150829421144 between the classes 27 and 35\n",
            "Top 5: Intercept/Constant in the decision function is 2.1111582032554916 between the classes 46 and 57\n",
            "Top 6: Intercept/Constant in the decision function is 1.9800525299419633 between the classes 35 and 57\n",
            "Top 7: Intercept/Constant in the decision function is 1.9641142543986858 between the classes 20 and 25\n",
            "Top 8: Intercept/Constant in the decision function is -1.9499296928074115 between the classes 11 and 35\n",
            "Top 9: Intercept/Constant in the decision function is 1.9264507417000312 between the classes 23 and 25\n",
            "Top 10: Intercept/Constant in the decision function is 1.8830653484605808 between the classes 19 and 21\n",
            "Top 11: Intercept/Constant in the decision function is -1.8751050620166265 between the classes 27 and 58\n",
            "Top 12: Intercept/Constant in the decision function is 1.8372558916721984 between the classes 36 and 41\n",
            "Top 13: Intercept/Constant in the decision function is -1.7983809719149846 between the classes 25 and 35\n",
            "Top 14: Intercept/Constant in the decision function is 1.7851720733641039 between the classes 34 and 47\n",
            "Top 15: Intercept/Constant in the decision function is -1.722693492099285 between the classes 25 and 58\n",
            "Top 16: Intercept/Constant in the decision function is -1.7167296559618037 between the classes 27 and 46\n",
            "Top 17: Intercept/Constant in the decision function is 1.709576893143322 between the classes 30 and 33\n",
            "Top 18: Intercept/Constant in the decision function is 1.6916272155112992 between the classes 0 and 5\n",
            "Top 19: Intercept/Constant in the decision function is -1.653951918678808 between the classes 21 and 50\n",
            "Top 20: Intercept/Constant in the decision function is -1.6421081541341231 between the classes 10 and 30\n",
            "\n",
            "For the Class Label 2\n",
            "Top 1: Intercept/Constant in the decision function is 6.996240725577183 between the classes 4 and 11\n",
            "Top 2: Intercept/Constant in the decision function is 6.961085353044832 between the classes 4 and 10\n",
            "Top 3: Intercept/Constant in the decision function is 6.366492471458489 between the classes 5 and 11\n",
            "Top 4: Intercept/Constant in the decision function is -6.122340869623853 between the classes 0 and 4\n",
            "Top 5: Intercept/Constant in the decision function is -5.471009315745727 between the classes 0 and 5\n",
            "Top 6: Intercept/Constant in the decision function is 5.454819489271339 between the classes 4 and 15\n",
            "Top 7: Intercept/Constant in the decision function is -5.183275733407192 between the classes 0 and 1\n",
            "Top 8: Intercept/Constant in the decision function is 4.965411371001974 between the classes 1 and 15\n",
            "Top 9: Intercept/Constant in the decision function is 4.913024544763157 between the classes 5 and 15\n",
            "Top 10: Intercept/Constant in the decision function is 4.9088568690111085 between the classes 4 and 13\n",
            "Top 11: Intercept/Constant in the decision function is 4.905116528519634 between the classes 3 and 11\n",
            "Top 12: Intercept/Constant in the decision function is 4.895761636514153 between the classes 5 and 10\n",
            "Top 13: Intercept/Constant in the decision function is 4.75087579532979 between the classes 4 and 16\n",
            "Top 14: Intercept/Constant in the decision function is 4.528680156468191 between the classes 1 and 10\n",
            "Top 15: Intercept/Constant in the decision function is 4.485204292763048 between the classes 3 and 10\n",
            "Top 16: Intercept/Constant in the decision function is 4.376290314922527 between the classes 1 and 11\n",
            "Top 17: Intercept/Constant in the decision function is 4.357952940877596 between the classes 5 and 13\n",
            "Top 18: Intercept/Constant in the decision function is 4.282797990057936 between the classes 4 and 14\n",
            "Top 19: Intercept/Constant in the decision function is 4.268011666049288 between the classes 1 and 14\n",
            "Top 20: Intercept/Constant in the decision function is 4.172107758998097 between the classes 8 and 13\n",
            "\n",
            "For the Class Label 3\n",
            "Top 1: Intercept/Constant in the decision function is 11.13824992210689 between the classes 0 and 1\n",
            "\n",
            "For the Class Label 4\n",
            "Top 1: Intercept/Constant in the decision function is -10.31650420506827 between the classes 4 and 6\n",
            "Top 2: Intercept/Constant in the decision function is 10.09042795141777 between the classes 6 and 10\n",
            "Top 3: Intercept/Constant in the decision function is -9.235133824863217 between the classes 3 and 6\n",
            "Top 4: Intercept/Constant in the decision function is -8.899431822748017 between the classes 1 and 6\n",
            "Top 5: Intercept/Constant in the decision function is 8.514291255507958 between the classes 6 and 13\n",
            "Top 6: Intercept/Constant in the decision function is 8.39681676806207 between the classes 6 and 8\n",
            "Top 7: Intercept/Constant in the decision function is 8.067973239739405 between the classes 6 and 11\n",
            "Top 8: Intercept/Constant in the decision function is 7.461357939959206 between the classes 6 and 7\n",
            "Top 9: Intercept/Constant in the decision function is -7.234102784046937 between the classes 5 and 6\n",
            "Top 10: Intercept/Constant in the decision function is -7.03165681012086 between the classes 0 and 6\n",
            "Top 11: Intercept/Constant in the decision function is 6.815314892831008 between the classes 6 and 9\n",
            "Top 12: Intercept/Constant in the decision function is 4.925848301857887 between the classes 6 and 12\n",
            "Top 13: Intercept/Constant in the decision function is -4.349425731740382 between the classes 2 and 6\n",
            "Top 14: Intercept/Constant in the decision function is 3.718503265358306 between the classes 2 and 3\n",
            "Top 15: Intercept/Constant in the decision function is -3.385360693439677 between the classes 10 and 12\n",
            "Top 16: Intercept/Constant in the decision function is 3.0912777539125296 between the classes 2 and 13\n",
            "Top 17: Intercept/Constant in the decision function is -2.6300315584629486 between the classes 1 and 2\n",
            "Top 18: Intercept/Constant in the decision function is 2.585883538209527 between the classes 2 and 11\n",
            "Top 19: Intercept/Constant in the decision function is -2.4023559421873575 between the classes 9 and 12\n",
            "Top 20: Intercept/Constant in the decision function is -2.153441075241764 between the classes 11 and 12\n"
          ]
        }
      ],
      "source": [
        "for i in range(4):\n",
        "  print(f\"\\nFor the Class Label {i+1}\")\n",
        "  binary = False\n",
        "  if i==2:\n",
        "    binary=True\n",
        "  print_top_constants(svm_linear_model_arr[i], len(y_train_arr[i].unique()), binary=binary)\n"
      ]
    },
    {
      "cell_type": "markdown",
      "metadata": {
        "id": "i5a9YVAnvxYz"
      },
      "source": [
        "# Predicting for test data"
      ]
    },
    {
      "cell_type": "code",
      "execution_count": 47,
      "metadata": {
        "id": "2YuMj-nlIc0i"
      },
      "outputs": [],
      "source": [
        "y_pred_for_X_test_arr = []\n",
        "for i in range(4):\n",
        "  y_pred_for_X_test_arr.append(predict(X_test_after_reduction_arr[i], svm_model_arr[i]))"
      ]
    },
    {
      "cell_type": "markdown",
      "metadata": {
        "id": "bPtWiMe7LXYr"
      },
      "source": [
        "# Creating the solutions csv"
      ]
    },
    {
      "cell_type": "code",
      "execution_count": null,
      "metadata": {
        "id": "Wulyg_VIGDuc"
      },
      "outputs": [],
      "source": [
        "def createCSVOutput(y_arr, filename):\n",
        "  data = {\n",
        "    'ID' : list(range(1, y_arr[0].shape[0] + 1)),\n",
        "    'label_1': y_arr[0],\n",
        "    'label_2': y_arr[1],\n",
        "    'label_3': y_arr[2],\n",
        "    'label_4': y_arr[3]\n",
        "  }\n",
        "  df = pd.DataFrame(data)\n",
        "  df.to_csv(filename, index=False)"
      ]
    },
    {
      "cell_type": "code",
      "execution_count": null,
      "metadata": {
        "id": "JyA_dvHyINHz"
      },
      "outputs": [],
      "source": [
        "createCSVOutput(y_pred_for_X_test_arr, './output.csv')"
      ]
    },
    {
      "cell_type": "code",
      "execution_count": null,
      "metadata": {},
      "outputs": [],
      "source": []
    },
    {
      "cell_type": "code",
      "execution_count": null,
      "metadata": {},
      "outputs": [],
      "source": []
    },
    {
      "cell_type": "code",
      "execution_count": null,
      "metadata": {},
      "outputs": [],
      "source": []
    },
    {
      "cell_type": "code",
      "execution_count": null,
      "metadata": {},
      "outputs": [],
      "source": []
    }
  ],
  "metadata": {
    "colab": {
      "collapsed_sections": [
        "i5a9YVAnvxYz"
      ],
      "provenance": []
    },
    "kernelspec": {
      "display_name": "Python 3",
      "name": "python3"
    },
    "language_info": {
      "codemirror_mode": {
        "name": "ipython",
        "version": 3
      },
      "file_extension": ".py",
      "mimetype": "text/x-python",
      "name": "python",
      "nbconvert_exporter": "python",
      "pygments_lexer": "ipython3",
      "version": "3.10.12"
    }
  },
  "nbformat": 4,
  "nbformat_minor": 0
}
