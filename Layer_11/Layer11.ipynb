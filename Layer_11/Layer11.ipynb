{
  "cells": [
    {
      "cell_type": "markdown",
      "metadata": {
        "id": "ftIuIjU140Jn"
      },
      "source": [
        "# Layer 11"
      ]
    },
    {
      "cell_type": "code",
      "execution_count": 4,
      "metadata": {
        "id": "9wAIxyQyBSSK"
      },
      "outputs": [
        {
          "name": "stdout",
          "output_type": "stream",
          "text": [
            "Defaulting to user installation because normal site-packages is not writeable\n"
          ]
        },
        {
          "name": "stdout",
          "output_type": "stream",
          "text": [
            "Requirement already satisfied: shap in /home/jananga/.local/lib/python3.10/site-packages (0.42.1)\n",
            "Requirement already satisfied: numpy in /home/jananga/.local/lib/python3.10/site-packages (from shap) (1.25.2)\n",
            "Requirement already satisfied: scipy in /home/jananga/.local/lib/python3.10/site-packages (from shap) (1.11.2)\n",
            "Requirement already satisfied: scikit-learn in /home/jananga/.local/lib/python3.10/site-packages (from shap) (1.3.1)\n",
            "Requirement already satisfied: pandas in /home/jananga/.local/lib/python3.10/site-packages (from shap) (2.1.1)\n",
            "Requirement already satisfied: tqdm>=4.27.0 in /home/jananga/.local/lib/python3.10/site-packages (from shap) (4.66.1)\n",
            "Requirement already satisfied: packaging>20.9 in /home/jananga/.local/lib/python3.10/site-packages (from shap) (23.1)\n",
            "Requirement already satisfied: slicer==0.0.7 in /home/jananga/.local/lib/python3.10/site-packages (from shap) (0.0.7)\n",
            "Requirement already satisfied: numba in /home/jananga/.local/lib/python3.10/site-packages (from shap) (0.58.0)\n",
            "Requirement already satisfied: cloudpickle in /home/jananga/.local/lib/python3.10/site-packages (from shap) (2.2.1)\n",
            "Requirement already satisfied: llvmlite<0.42,>=0.41.0dev0 in /home/jananga/.local/lib/python3.10/site-packages (from numba->shap) (0.41.0)\n",
            "Requirement already satisfied: python-dateutil>=2.8.2 in /home/jananga/.local/lib/python3.10/site-packages (from pandas->shap) (2.8.2)\n",
            "Requirement already satisfied: pytz>=2020.1 in /usr/lib/python3/dist-packages (from pandas->shap) (2022.1)\n",
            "Requirement already satisfied: tzdata>=2022.1 in /home/jananga/.local/lib/python3.10/site-packages (from pandas->shap) (2023.3)\n",
            "Requirement already satisfied: joblib>=1.1.1 in /home/jananga/.local/lib/python3.10/site-packages (from scikit-learn->shap) (1.3.2)\n",
            "Requirement already satisfied: threadpoolctl>=2.0.0 in /home/jananga/.local/lib/python3.10/site-packages (from scikit-learn->shap) (3.2.0)\n",
            "Requirement already satisfied: six>=1.5 in /usr/lib/python3/dist-packages (from python-dateutil>=2.8.2->pandas->shap) (1.16.0)\n"
          ]
        }
      ],
      "source": [
        "! pip install shap"
      ]
    },
    {
      "cell_type": "code",
      "execution_count": 2,
      "metadata": {
        "id": "adkT59xG3nrt"
      },
      "outputs": [],
      "source": [
        "import pandas as pd\n",
        "import matplotlib.pyplot as plt\n",
        "import numpy as np\n",
        "import seaborn as sns\n",
        "import heapq\n",
        "from sklearn.decomposition import PCA\n",
        "from sklearn.svm import SVC\n",
        "from sklearn.metrics import classification_report, confusion_matrix, accuracy_score\n",
        "from sklearn.model_selection import cross_val_score, RandomizedSearchCV\n",
        "from sklearn.preprocessing import RobustScaler\n",
        "from sklearn.utils.class_weight import compute_class_weight\n",
        "from sklearn.ensemble import RandomForestClassifier\n",
        "from sklearn.neighbors import KNeighborsClassifier\n",
        "import shap\n",
        "import shap.plots as shap_plots"
      ]
    },
    {
      "cell_type": "markdown",
      "metadata": {
        "id": "aplyfMEo7YIx"
      },
      "source": [
        "# Reading Data From CSV files"
      ]
    },
    {
      "cell_type": "code",
      "execution_count": 3,
      "metadata": {
        "id": "BMm_AHmL4w2k"
      },
      "outputs": [],
      "source": [
        "train_data = pd.read_csv('./train.csv')\n",
        "valid_data = pd.read_csv('./valid.csv')\n",
        "test_data = pd.read_csv('./test.csv')"
      ]
    },
    {
      "cell_type": "markdown",
      "metadata": {
        "id": "LQYFarVj7fYc"
      },
      "source": [
        "## Extracting X and Y"
      ]
    },
    {
      "cell_type": "code",
      "execution_count": 4,
      "metadata": {
        "id": "6jDMB0WN7U1J"
      },
      "outputs": [],
      "source": [
        "X_train, y_train = train_data.iloc[:, :-4], train_data.iloc[:, -4:]\n",
        "X_valid, y_valid = valid_data.iloc[:, :-4], valid_data.iloc[:, -4:]\n",
        "X_test = test_data.iloc[:, 1:]\n",
        "y_train_arr = [y_train.iloc[:, i] for i in range(4)]\n",
        "y_valid_arr = [y_valid.iloc[:, i] for i in range(4)]"
      ]
    },
    {
      "cell_type": "markdown",
      "metadata": {
        "id": "29JTi9Ix5-3E"
      },
      "source": [
        "# Data Preprocessing"
      ]
    },
    {
      "cell_type": "markdown",
      "metadata": {
        "id": "cxqP0N3x6Hzs"
      },
      "source": [
        "## Checking for missing values"
      ]
    },
    {
      "cell_type": "code",
      "execution_count": 5,
      "metadata": {
        "colab": {
          "base_uri": "https://localhost:8080/"
        },
        "id": "BjZB4fXy6WR3",
        "outputId": "23780e53-265c-4b81-a388-659ffa003797"
      },
      "outputs": [
        {
          "data": {
            "text/plain": [
              "0"
            ]
          },
          "execution_count": 5,
          "metadata": {},
          "output_type": "execute_result"
        }
      ],
      "source": [
        "X_train.isnull().sum().sum()"
      ]
    },
    {
      "cell_type": "code",
      "execution_count": 6,
      "metadata": {
        "colab": {
          "base_uri": "https://localhost:8080/"
        },
        "id": "GKLzurb36bX6",
        "outputId": "9d735640-13be-4c11-d71a-cd5b3d4f60d3"
      },
      "outputs": [
        {
          "data": {
            "text/plain": [
              "0"
            ]
          },
          "execution_count": 6,
          "metadata": {},
          "output_type": "execute_result"
        }
      ],
      "source": [
        "X_valid.isnull().sum().sum()"
      ]
    },
    {
      "cell_type": "code",
      "execution_count": 7,
      "metadata": {
        "colab": {
          "base_uri": "https://localhost:8080/"
        },
        "id": "Q2lVLY436fiL",
        "outputId": "9617b31a-8142-429f-8799-888dedd4365e"
      },
      "outputs": [
        {
          "data": {
            "text/plain": [
              "0"
            ]
          },
          "execution_count": 7,
          "metadata": {},
          "output_type": "execute_result"
        }
      ],
      "source": [
        "X_test.isnull().sum().sum()"
      ]
    },
    {
      "cell_type": "code",
      "execution_count": 8,
      "metadata": {
        "colab": {
          "base_uri": "https://localhost:8080/"
        },
        "id": "QxS1IPrb6hHG",
        "outputId": "adeca731-1a0e-497b-bd1b-d141120e20cf"
      },
      "outputs": [
        {
          "data": {
            "text/plain": [
              "label_1      0\n",
              "label_2    480\n",
              "label_3      0\n",
              "label_4      0\n",
              "dtype: int64"
            ]
          },
          "execution_count": 8,
          "metadata": {},
          "output_type": "execute_result"
        }
      ],
      "source": [
        "y_train.isnull().sum()"
      ]
    },
    {
      "cell_type": "code",
      "execution_count": 9,
      "metadata": {
        "colab": {
          "base_uri": "https://localhost:8080/"
        },
        "id": "qjXrRwBv6mbC",
        "outputId": "9e26ef4d-e0f7-422e-b2dc-abf983b28962"
      },
      "outputs": [
        {
          "data": {
            "text/plain": [
              "label_1     0\n",
              "label_2    14\n",
              "label_3     0\n",
              "label_4     0\n",
              "dtype: int64"
            ]
          },
          "execution_count": 9,
          "metadata": {},
          "output_type": "execute_result"
        }
      ],
      "source": [
        "y_valid.isnull().sum()"
      ]
    },
    {
      "cell_type": "code",
      "execution_count": 10,
      "metadata": {
        "colab": {
          "base_uri": "https://localhost:8080/"
        },
        "id": "_jhAd_5s627R",
        "outputId": "88ff6568-66c2-4e86-f9bf-241a5dc95f77"
      },
      "outputs": [
        {
          "data": {
            "text/plain": [
              "28520"
            ]
          },
          "execution_count": 10,
          "metadata": {},
          "output_type": "execute_result"
        }
      ],
      "source": [
        "len(y_train)"
      ]
    },
    {
      "cell_type": "markdown",
      "metadata": {
        "id": "csNLBKX06qiO"
      },
      "source": [
        "Therefore y_train and y_valid label 2 only have missing values"
      ]
    },
    {
      "cell_type": "code",
      "execution_count": 11,
      "metadata": {
        "colab": {
          "base_uri": "https://localhost:8080/"
        },
        "id": "cje6P1WF6qM0",
        "outputId": "72d5129a-8ec3-49b8-b57a-0a8ef75eb151"
      },
      "outputs": [
        {
          "name": "stdout",
          "output_type": "stream",
          "text": [
            "Missing values percentage of train label 2 column : 1.6830294530154277%\n",
            "Missing values percentage of valid label 2 column : 1.8666666666666667%\n"
          ]
        }
      ],
      "source": [
        "print(f\"Missing values percentage of train label 2 column : {y_train_arr[1].isnull().sum()*100/len(y_train)}%\")\n",
        "print(f\"Missing values percentage of valid label 2 column : {y_valid_arr[1].isnull().sum()*100/len(y_valid)}%\")"
      ]
    },
    {
      "cell_type": "markdown",
      "metadata": {
        "id": "7fk5YEg_VFn4"
      },
      "source": [
        "Since the missing values percentage of train data label 2 column and valid data label 2 column are low, missing values are deleted"
      ]
    },
    {
      "cell_type": "code",
      "execution_count": 12,
      "metadata": {
        "id": "G-B_C2UsVWJL"
      },
      "outputs": [],
      "source": [
        "train_data_missing_removed = train_data.dropna()\n",
        "valid_data_missing_removed = valid_data.dropna()\n",
        "train_data_missing_removed.reset_index(drop=True, inplace=True)\n",
        "valid_data_missing_removed.reset_index(drop=True, inplace=True)\n",
        "X_train, y_train = train_data.iloc[:, :-4], train_data.iloc[:, -4:]\n",
        "X_valid, y_valid = valid_data.iloc[:, :-4], valid_data.iloc[:, -4:]\n",
        "X_train_missing_removed, y_train_missing_removed = train_data_missing_removed.iloc[:, :-4], train_data_missing_removed.iloc[:, -4:]\n",
        "X_valid_missing_removed, y_valid_missing_removed = valid_data_missing_removed.iloc[:, :-4], valid_data_missing_removed.iloc[:, -4:]\n",
        "X_train_arr = [X_train, X_train_missing_removed, X_train, X_train]\n",
        "X_valid_arr = [X_valid, X_valid_missing_removed, X_valid, X_valid]\n",
        "X_test_arr = [X_test, X_test, X_test, X_test]"
      ]
    },
    {
      "cell_type": "code",
      "execution_count": 13,
      "metadata": {
        "id": "oJCtIpVJ8Zpj"
      },
      "outputs": [],
      "source": [
        "y_train_arr = [y_train.iloc[:, 0], y_train_missing_removed.iloc[:, 1], y_train.iloc[:, 2], y_train.iloc[:, 3]]\n",
        "y_valid_arr = [y_valid.iloc[:, 0], y_valid_missing_removed.iloc[:, 1], y_valid.iloc[:, 2], y_valid.iloc[:, 3]]"
      ]
    },
    {
      "cell_type": "markdown",
      "metadata": {
        "id": "ZdH9Za3L75pP"
      },
      "source": [
        "## Scaling"
      ]
    },
    {
      "cell_type": "markdown",
      "metadata": {
        "id": "S6-yXJBqTg2Y"
      },
      "source": [
        "\"RobustScaler\" standardizes the data, first using training data to calculate scaling parameters and then applying the same transformation to validation and test datasets for consistent scaling in machine learning modeling."
      ]
    },
    {
      "cell_type": "code",
      "execution_count": 14,
      "metadata": {
        "id": "fyDjlJbozBAc"
      },
      "outputs": [],
      "source": [
        "scaler = RobustScaler()\n",
        "for i in range(4):\n",
        "  X_train_arr[i] = pd.DataFrame(data=scaler.fit_transform(X_train_arr[i]), columns=X_train_arr[i].columns)\n",
        "  X_valid_arr[i] = pd.DataFrame(data=scaler.transform(X_valid_arr[i]), columns=X_valid_arr[i].columns)\n",
        "  X_test_arr[i] = pd.DataFrame(data=scaler.transform(X_test_arr[i]), columns=X_test_arr[i].columns)"
      ]
    },
    {
      "cell_type": "markdown",
      "metadata": {
        "id": "t8RLHXnT8UFr"
      },
      "source": [
        "# Data Visualization"
      ]
    },
    {
      "cell_type": "code",
      "execution_count": 15,
      "metadata": {
        "id": "TCR190Jv8F62"
      },
      "outputs": [],
      "source": [
        "def visualize_label(y, title, x_title, y_title='Number of rows'):\n",
        "  unique_classes, class_counts = np.unique(y, return_counts=True)\n",
        "  plt.bar(unique_classes, class_counts)\n",
        "  plt.xlabel(x_title)\n",
        "  plt.ylabel(y_title)\n",
        "  plt.title(title)\n",
        "  plt.show()"
      ]
    },
    {
      "cell_type": "code",
      "execution_count": 16,
      "metadata": {
        "colab": {
          "base_uri": "https://localhost:8080/",
          "height": 1000
        },
        "id": "thH0cqTx8Xmv",
        "outputId": "0ff96b2c-516e-4d86-9575-52697a8d06ac"
      },
      "outputs": [
        {
          "data": {
            "image/png": "[encoded data removed]",
            "text/plain": [
              "<Figure size 640x480 with 1 Axes>"
            ]
          },
          "metadata": {},
          "output_type": "display_data"
        },
        {
          "data": {
            "image/png": "[encoded data removed]",
            "text/plain": [
              "<Figure size 640x480 with 1 Axes>"
            ]
          },
          "metadata": {},
          "output_type": "display_data"
        },
        {
          "data": {
            "image/png": "[encoded data removed]",
            "text/plain": [
              "<Figure size 640x480 with 1 Axes>"
            ]
          },
          "metadata": {},
          "output_type": "display_data"
        },
        {
          "data": {
            "image/png": "[encoded data removed]",
            "text/plain": [
              "<Figure size 640x480 with 1 Axes>"
            ]
          },
          "metadata": {},
          "output_type": "display_data"
        }
      ],
      "source": [
        "visualize_label(y_train_arr[0], \"Number of rows versus Speaker ID\",\"Speaker ID\");\n",
        "visualize_label(y_train_arr[1], \"Number of rows versus Age\",\"Age\");\n",
        "visualize_label(y_train_arr[2], \"Number of rows versus Gender\",\"Gender\");\n",
        "visualize_label(y_train_arr[3], \"Number of rows versus Accent\",\"Accent\");"
      ]
    },
    {
      "cell_type": "markdown",
      "metadata": {
        "id": "LYuv5YY9Tjo3"
      },
      "source": [
        "The classes of label 1 are approximately uniformly balanced. In other 3 labes classes are inbalanced. To handle this, class weights are assigned in a latter stage"
      ]
    },
    {
      "cell_type": "markdown",
      "metadata": {
        "id": "8DctB7vz80vZ"
      },
      "source": [
        "# Feature Reduction"
      ]
    },
    {
      "cell_type": "markdown",
      "metadata": {
        "id": "o2H0l0O1-KN6"
      },
      "source": [
        "Principal Component Analysis (PCA) is a tool used to simplify data by reducing its complexity and selecting the most important features. In this context, it's being used to make the features simpler."
      ]
    },
    {
      "cell_type": "code",
      "execution_count": 17,
      "metadata": {
        "id": "GzyaBIm1842v"
      },
      "outputs": [],
      "source": [
        "def pca_reduce(X,pca, first_fit=False):\n",
        "  if first_fit:\n",
        "    X_pca = pca.fit_transform(X)\n",
        "  else:\n",
        "    X_pca = pca.transform(X)\n",
        "  return pd.DataFrame(data=X_pca, columns=[X.columns[i] for i in range(X_pca.shape[1])])"
      ]
    },
    {
      "cell_type": "code",
      "execution_count": 18,
      "metadata": {
        "id": "q-jUpShR86GG"
      },
      "outputs": [],
      "source": [
        "desired_variance_ratio = 0.95\n",
        "pca = PCA(n_components=desired_variance_ratio, svd_solver='full')\n",
        "X_train_after_reduction_arr = []\n",
        "X_valid_after_reduction_arr= []\n",
        "X_test_after_reduction_arr = []\n",
        "for i in range(4):\n",
        "  X_train_after_reduction_arr.append(pca_reduce(X_train_arr[i] ,pca, first_fit=True))\n",
        "  X_valid_after_reduction_arr.append(pca_reduce(X_valid_arr[i] ,pca))\n",
        "  X_test_after_reduction_arr.append(pca_reduce(X_test_arr[i] ,pca))"
      ]
    },
    {
      "cell_type": "markdown",
      "metadata": {
        "id": "by-VbMZPdwhA"
      },
      "source": [
        "## Useful Functions"
      ]
    },
    {
      "cell_type": "code",
      "execution_count": 19,
      "metadata": {
        "id": "ukYRTdCXdsie"
      },
      "outputs": [],
      "source": [
        "def predict(X, model):\n",
        "  y_pred = model.predict(X)\n",
        "  return pd.Series(y_pred)"
      ]
    },
    {
      "cell_type": "code",
      "execution_count": 20,
      "metadata": {
        "id": "WxR3bEuUd0er"
      },
      "outputs": [],
      "source": [
        "def find_accuracy(y_predicted, y_correct):\n",
        "  accuracy = accuracy_score(y_predicted, y_correct)\n",
        "  return accuracy"
      ]
    },
    {
      "cell_type": "markdown",
      "metadata": {
        "id": "hCZkK1_dwX3E"
      },
      "source": [
        "# Creating models and predicting"
      ]
    },
    {
      "cell_type": "markdown",
      "metadata": {
        "id": "REMDOTO4W9HA"
      },
      "source": [
        "Random Forest, kNN and SVC models were considered. After conducting several executions and comparing accuracies SVC models were selected over other two models."
      ]
    },
    {
      "cell_type": "markdown",
      "metadata": {
        "id": "o08IY56cYHuf"
      },
      "source": [
        "## Random Forest"
      ]
    },
    {
      "cell_type": "markdown",
      "metadata": {
        "id": "2BubxjZ-Yo6b"
      },
      "source": [
        "andom Forest is a practical machine learning approach frequently chosen for its straightforwardness and efficiency in addressing classification tasks."
      ]
    },
    {
      "cell_type": "markdown",
      "metadata": {
        "id": "2sNG4xfcYKMK"
      },
      "source": [
        "### Model creating"
      ]
    },
    {
      "cell_type": "code",
      "execution_count": 21,
      "metadata": {
        "id": "UPXLlG9zYL4z"
      },
      "outputs": [],
      "source": [
        "def random_forest(X, y, n_estimators=100, random_state=42):\n",
        "    class_weights = compute_class_weight('balanced', classes=np.unique(y), y=y)\n",
        "    class_weight_dict = {cls: weight for cls, weight in zip(np.unique(y), class_weights)}\n",
        "    model = RandomForestClassifier(n_estimators=n_estimators, random_state=random_state, class_weight=class_weight_dict)\n",
        "    model.fit(X, y)\n",
        "    return model"
      ]
    },
    {
      "cell_type": "code",
      "execution_count": 22,
      "metadata": {
        "id": "hzefm00TYRvh"
      },
      "outputs": [],
      "source": [
        "random_forest_model_arr = []\n",
        "for i in range(4):\n",
        "  random_forest_model_arr.append(random_forest(X_train_after_reduction_arr[i], y_train_arr[i]))"
      ]
    },
    {
      "cell_type": "markdown",
      "metadata": {
        "id": "ZEZxMTpQYap4"
      },
      "source": [
        "### Predicting for Valid data"
      ]
    },
    {
      "cell_type": "code",
      "execution_count": 23,
      "metadata": {
        "colab": {
          "base_uri": "https://localhost:8080/"
        },
        "id": "edwGV1xzYerV",
        "outputId": "d0f4d075-b50b-47c9-d542-e4464f2664eb"
      },
      "outputs": [
        {
          "name": "stdout",
          "output_type": "stream",
          "text": [
            "Accuracy score for label 1 : 0.7986666666666666\n",
            "Accuracy score for label 2 : 0.65625\n",
            "Accuracy score for label 3 : 0.928\n",
            "Accuracy score for label 4 : 0.7346666666666667\n"
          ]
        }
      ],
      "source": [
        "y_pred_for_valid_arr = [predict(X_valid_after_reduction_arr[i], random_forest_model_arr[i]) for i in range(4)]\n",
        "accuracy_for_valid_data_arr = [find_accuracy(y_pred_for_valid_arr[i], y_valid_arr[i]) for i in range(4)]\n",
        "for i in range(4):\n",
        "  print(f\"Accuracy score for label {i+1} : {accuracy_for_valid_data_arr[i]}\")"
      ]
    },
    {
      "cell_type": "markdown",
      "metadata": {
        "id": "e1EWZXL1XJP8"
      },
      "source": [
        "## kNN"
      ]
    },
    {
      "cell_type": "markdown",
      "metadata": {
        "id": "o2xc0_7xX1Gi"
      },
      "source": [
        "k-Nearest Neighbors (kNN) is a useful machine learning method often selected for its simplicity and effectiveness in handling classification tasks."
      ]
    },
    {
      "cell_type": "markdown",
      "metadata": {
        "id": "Pc-4YgHJXc0H"
      },
      "source": [
        "### Model creating"
      ]
    },
    {
      "cell_type": "code",
      "execution_count": 24,
      "metadata": {
        "id": "bxscARNJXH3a"
      },
      "outputs": [],
      "source": [
        "def knn(X, y, n_neighbors=5):\n",
        "    class_weights = compute_class_weight('balanced', classes=np.unique(y), y=y)\n",
        "    class_weight_dict = {cls: weight for cls, weight in zip(np.unique(y), class_weights)}\n",
        "    model = KNeighborsClassifier(n_neighbors=n_neighbors, weights='uniform')\n",
        "    model.fit(X, y)\n",
        "    return model"
      ]
    },
    {
      "cell_type": "code",
      "execution_count": 25,
      "metadata": {
        "id": "dimmFA7sXX8C"
      },
      "outputs": [],
      "source": [
        "knn_model_arr = []\n",
        "for i in range(4):\n",
        "  knn_model_arr.append(knn(X_train_after_reduction_arr[i], y_train_arr[i]))"
      ]
    },
    {
      "cell_type": "markdown",
      "metadata": {
        "id": "jpeIx5nQXhga"
      },
      "source": [
        "### Predicting for Valid data"
      ]
    },
    {
      "cell_type": "code",
      "execution_count": 26,
      "metadata": {
        "colab": {
          "base_uri": "https://localhost:8080/"
        },
        "id": "WZ7obzprXiZ-",
        "outputId": "b3d56e1e-9e57-4af6-e2b6-8f393b64ff1f"
      },
      "outputs": [
        {
          "name": "stdout",
          "output_type": "stream",
          "text": [
            "Accuracy score for label 1 : 0.7733333333333333\n",
            "Accuracy score for label 2 : 0.7907608695652174\n",
            "Accuracy score for label 3 : 0.98\n",
            "Accuracy score for label 4 : 0.8986666666666666\n"
          ]
        }
      ],
      "source": [
        "y_pred_for_valid_arr = [predict(X_valid_after_reduction_arr[i], knn_model_arr[i]) for i in range(4)]\n",
        "accuracy_for_valid_data_arr = [find_accuracy(y_pred_for_valid_arr[i], y_valid_arr[i]) for i in range(4)]\n",
        "for i in range(4):\n",
        "  print(f\"Accuracy score for label {i+1} : {accuracy_for_valid_data_arr[i]}\")"
      ]
    },
    {
      "cell_type": "markdown",
      "metadata": {
        "id": "qVIV9DMNfAEY"
      },
      "source": [
        "## SVC"
      ]
    },
    {
      "cell_type": "markdown",
      "metadata": {
        "id": "mAc_Eg6A_JmZ"
      },
      "source": [
        "Support Vector Classification (SVC) is a machine learning technique used in modeling. It is chosen for its effectiveness in solving classification problems."
      ]
    },
    {
      "cell_type": "markdown",
      "metadata": {
        "id": "5oeWYckz_l5B"
      },
      "source": [
        "### Hyperparameter tuning"
      ]
    },
    {
      "cell_type": "markdown",
      "metadata": {
        "id": "irPITKmeUoA_"
      },
      "source": [
        "The SVM model is tuned using a randomized search approach. Hyperparameter values for 'C', 'gamma', 'kernel' , and 'degree' are explored. RandomizedSearchCV with 100 iterations, 5-fold cross-validation, and parallel processing is applied to find the best combination of hyperparameters for the SVM model."
      ]
    },
    {
      "cell_type": "code",
      "execution_count": 30,
      "metadata": {
        "id": "BiQOhaUE_jHL"
      },
      "outputs": [],
      "source": [
        "C = [0.1, 1, 10, 100]\n",
        "gamma = ['scale', 'auto', 0.001, 0.01, 0.1, 1.0]\n",
        "kernel = ['linear', 'rbf', 'poly']\n",
        "degree = [2, 3, 4]\n",
        "svc_tuning_model = SVC()\n",
        "param_grid = {\n",
        "    'C': C,\n",
        "    'gamma': gamma,\n",
        "    'kernel': kernel,\n",
        "    'degree': degree,\n",
        "}\n",
        "random_search = RandomizedSearchCV(\n",
        "    svc_tuning_model,\n",
        "    param_distributions=param_grid,\n",
        "    n_iter=100,\n",
        "    cv=5,\n",
        "    n_jobs=-1,\n",
        "    verbose=1,\n",
        "    random_state=40\n",
        ")\n",
        "for i in range(4):\n",
        "  random_search.fit(X_train_after_reduction_arr[i], y_train_arr[i])\n",
        "  print(random_search.best_params)"
      ]
    },
    {
      "cell_type": "markdown",
      "metadata": {
        "id": "i3x1YUyz_xx5"
      },
      "source": [
        "### Model creating"
      ]
    },
    {
      "cell_type": "markdown",
      "metadata": {
        "id": "P8ouKC3pPd9o"
      },
      "source": [
        "class weights are applied to address the issue of imbalanced classes, ensuring that the model effectively learns from all classes in the dataset."
      ]
    },
    {
      "cell_type": "code",
      "execution_count": 27,
      "metadata": {
        "id": "RWFYtRCQPbrq"
      },
      "outputs": [],
      "source": [
        "def svm(X, y):\n",
        "  class_weights = compute_class_weight('balanced', classes=np.unique(y), y=y)\n",
        "  class_weight_dict = {cls: weight for cls, weight in zip(np.unique(y), class_weights)}\n",
        "  model = SVC(kernel='rbf', random_state=40, class_weight=class_weight_dict, C=100)\n",
        "  model.fit(X, y)\n",
        "  return model"
      ]
    },
    {
      "cell_type": "code",
      "execution_count": 28,
      "metadata": {},
      "outputs": [],
      "source": [
        "def svm_linear(X, y):\n",
        "  class_weights = compute_class_weight('balanced', classes=np.unique(y), y=y)\n",
        "  class_weight_dict = {cls: weight for cls, weight in zip(np.unique(y), class_weights)}\n",
        "  model = SVC(kernel='linear', random_state=40, class_weight=class_weight_dict)\n",
        "  model.fit(X, y)\n",
        "  return model"
      ]
    },
    {
      "cell_type": "code",
      "execution_count": 29,
      "metadata": {
        "id": "mt8_ibq7xed4"
      },
      "outputs": [],
      "source": [
        "svm_model_arr = []\n",
        "for i in range(4):\n",
        "  svm_model_arr.append(svm(X_train_after_reduction_arr[i], y_train_arr[i]))"
      ]
    },
    {
      "cell_type": "markdown",
      "metadata": {
        "id": "xWA2qy8cAd4L"
      },
      "source": [
        "### Predicting for Valid data"
      ]
    },
    {
      "cell_type": "code",
      "execution_count": 30,
      "metadata": {
        "colab": {
          "base_uri": "https://localhost:8080/"
        },
        "id": "bdDwe4SeAiir",
        "outputId": "a13ec992-fc53-45d2-b339-82e389ff5f93"
      },
      "outputs": [
        {
          "name": "stdout",
          "output_type": "stream",
          "text": [
            "Accuracy score for label 1 : 0.928\n",
            "Accuracy score for label 2 : 0.8845108695652174\n",
            "Accuracy score for label 3 : 0.9933333333333333\n",
            "Accuracy score for label 4 : 0.9413333333333334\n"
          ]
        }
      ],
      "source": [
        "y_pred_for_valid_arr = [predict(X_valid_after_reduction_arr[i], svm_model_arr[i]) for i in range(4)]\n",
        "accuracy_for_valid_data_arr = [find_accuracy(y_pred_for_valid_arr[i], y_valid_arr[i]) for i in range(4)]\n",
        "for i in range(4):\n",
        "  print(f\"Accuracy score for label {i+1} : {accuracy_for_valid_data_arr[i]}\")"
      ]
    },
    {
      "cell_type": "markdown",
      "metadata": {
        "id": "i9YFOneR_bPD"
      },
      "source": [
        "# Evaluating"
      ]
    },
    {
      "cell_type": "markdown",
      "metadata": {
        "id": "3-0vOE97_6j2"
      },
      "source": [
        "## Cross Validation"
      ]
    },
    {
      "cell_type": "markdown",
      "metadata": {
        "id": "Z2rVsoHnU8_l"
      },
      "source": [
        "This computes and displays the cross-validation scores for each of the four SVM models for their respective labels."
      ]
    },
    {
      "cell_type": "code",
      "execution_count": 35,
      "metadata": {
        "colab": {
          "base_uri": "https://localhost:8080/"
        },
        "id": "7ezYX_64XzXD",
        "outputId": "44425349-a573-4d39-946a-cdd4e7b9e07e"
      },
      "outputs": [
        {
          "name": "stdout",
          "output_type": "stream",
          "text": [
            "Cross validations scores for label 0 : [0.917777   0.92268583 0.91830295 0.91497195 0.91532258]\n",
            "Cross validations scores for label 1 : [0.41690442 0.625      0.65870185 0.65691869 0.4646933 ]\n",
            "Cross validations scores for label 2 : [0.96248247 0.99246143 0.98702665 0.97475456 0.99176017]\n",
            "Cross validations scores for label 3 : [0.89463534 0.88008415 0.88429173 0.89533661 0.85974755]\n"
          ]
        }
      ],
      "source": [
        "for i in range(4):\n",
        "  scores = cross_val_score(svm_model_arr[i],X_train_after_reduction_arr[i], y_train_arr[i], cv=5)\n",
        "  print(f\"Cross validations scores for label {i} : {scores}\")"
      ]
    },
    {
      "cell_type": "markdown",
      "metadata": {
        "id": "lMWVDwy3AQg0"
      },
      "source": [
        "## Heat Maps of the Confusion Matrixes"
      ]
    },
    {
      "cell_type": "markdown",
      "metadata": {
        "id": "8PNABt3OVe_7"
      },
      "source": [
        " This creates a heatmap representation of a confusion matrix. Then, it calculates and visualizes confusion matrices for different labels: \"Speaker ID,\" \"Age,\" \"Gender,\" and \"Accent.\""
      ]
    },
    {
      "cell_type": "code",
      "execution_count": 31,
      "metadata": {
        "id": "Z3zN9llBBYxt"
      },
      "outputs": [],
      "source": [
        "def visualize_confusion(confusion, title):\n",
        "  plt.figure(figsize=(20, 10))\n",
        "  sns.heatmap(confusion, annot=True, fmt=\"d\", cmap=\"Blues\", cbar=False)\n",
        "  plt.xlabel(\"Predicted\")\n",
        "  plt.ylabel(\"Actual\")\n",
        "  plt.title(f\"Confusion Matrix for {title}\")\n",
        "  plt.show()"
      ]
    },
    {
      "cell_type": "code",
      "execution_count": 32,
      "metadata": {
        "id": "_MZMD99KATnC"
      },
      "outputs": [],
      "source": [
        "confusion_arr = [confusion_matrix(y_valid_arr[i], y_pred_for_valid_arr[i]) for i in range(4)]"
      ]
    },
    {
      "cell_type": "code",
      "execution_count": 33,
      "metadata": {
        "colab": {
          "base_uri": "https://localhost:8080/",
          "height": 1000
        },
        "id": "JTh8VyA7KVH6",
        "outputId": "a7ab12c9-3ac4-4df6-d13c-32338c6d5042"
      },
      "outputs": [
        {
          "data": {
            "image/png": "[encoded data removed]",
            "text/plain": [
              "<Figure size 2000x1000 with 1 Axes>"
            ]
          },
          "metadata": {},
          "output_type": "display_data"
        },
        {
          "data": {
            "image/png": "[encoded data removed]",
            "text/plain": [
              "<Figure size 2000x1000 with 1 Axes>"
            ]
          },
          "metadata": {},
          "output_type": "display_data"
        },
        {
          "data": {
            "image/png": "[encoded data removed]",
            "text/plain": [
              "<Figure size 2000x1000 with 1 Axes>"
            ]
          },
          "metadata": {},
          "output_type": "display_data"
        },
        {
          "data": {
            "image/png": "[encoded data removed]",
            "text/plain": [
              "<Figure size 2000x1000 with 1 Axes>"
            ]
          },
          "metadata": {},
          "output_type": "display_data"
        }
      ],
      "source": [
        "visualize_confusion(confusion_arr[0], \"Speaker ID\")\n",
        "visualize_confusion(confusion_arr[1], \"Age\")\n",
        "visualize_confusion(confusion_arr[2], \"Gender\")\n",
        "visualize_confusion(confusion_arr[3], \"Accent\")"
      ]
    },
    {
      "cell_type": "markdown",
      "metadata": {
        "id": "fpnQkMoNVE_u"
      },
      "source": [
        "## Classification Reports"
      ]
    },
    {
      "cell_type": "markdown",
      "metadata": {
        "id": "x6vrDxRLVrvT"
      },
      "source": [
        "The predictions are generated for validation data using SVM models for four different labels. Then it computes and prints the classification report, including metrics like precision, recall, and F1-score, for each label."
      ]
    },
    {
      "cell_type": "code",
      "execution_count": 34,
      "metadata": {
        "colab": {
          "base_uri": "https://localhost:8080/"
        },
        "id": "sXEG6HBNk4Ma",
        "outputId": "14a9e35d-64eb-42da-8a9d-1492affeed3c"
      },
      "outputs": [
        {
          "name": "stdout",
          "output_type": "stream",
          "text": [
            "Classification Report for Label 1\n",
            "              precision    recall  f1-score   support\n",
            "\n",
            "           1       0.87      1.00      0.93        13\n",
            "           2       0.80      0.89      0.84         9\n",
            "           3       0.80      1.00      0.89        12\n",
            "           4       1.00      0.81      0.90        16\n",
            "           5       1.00      0.83      0.91        18\n",
            "           6       0.89      0.89      0.89         9\n",
            "           7       0.94      0.94      0.94        17\n",
            "           8       0.80      0.86      0.83        14\n",
            "           9       1.00      0.91      0.95        11\n",
            "          10       1.00      1.00      1.00         8\n",
            "          11       1.00      0.89      0.94        19\n",
            "          12       0.88      1.00      0.93         7\n",
            "          13       0.89      0.73      0.80        11\n",
            "          14       1.00      0.87      0.93        15\n",
            "          15       0.93      0.76      0.84        17\n",
            "          16       1.00      1.00      1.00        14\n",
            "          17       0.93      1.00      0.97        14\n",
            "          18       0.94      0.84      0.89        19\n",
            "          19       0.82      0.93      0.87        15\n",
            "          20       1.00      0.82      0.90        11\n",
            "          21       0.87      0.93      0.90        14\n",
            "          22       0.91      0.91      0.91        11\n",
            "          23       0.83      1.00      0.91        10\n",
            "          24       0.92      1.00      0.96        12\n",
            "          25       0.83      0.91      0.87        11\n",
            "          26       1.00      1.00      1.00         7\n",
            "          27       1.00      0.94      0.97        16\n",
            "          28       0.92      1.00      0.96        11\n",
            "          29       1.00      0.87      0.93        15\n",
            "          30       0.78      0.88      0.82         8\n",
            "          31       0.83      0.83      0.83        12\n",
            "          32       1.00      1.00      1.00         9\n",
            "          33       0.75      1.00      0.86         6\n",
            "          34       0.85      0.85      0.85        13\n",
            "          35       1.00      1.00      1.00         8\n",
            "          36       1.00      1.00      1.00        18\n",
            "          37       1.00      0.81      0.90        16\n",
            "          38       1.00      0.91      0.95        11\n",
            "          39       1.00      1.00      1.00        13\n",
            "          40       0.92      0.92      0.92        12\n",
            "          41       1.00      0.90      0.95        10\n",
            "          42       0.86      1.00      0.92        12\n",
            "          43       1.00      1.00      1.00        12\n",
            "          44       1.00      0.95      0.97        19\n",
            "          45       0.81      0.93      0.87        14\n",
            "          46       1.00      1.00      1.00        11\n",
            "          47       1.00      1.00      1.00         8\n",
            "          48       0.89      0.94      0.91        17\n",
            "          49       0.93      1.00      0.96        13\n",
            "          50       1.00      1.00      1.00        13\n",
            "          51       0.73      1.00      0.84         8\n",
            "          52       0.92      1.00      0.96        11\n",
            "          53       1.00      1.00      1.00        15\n",
            "          54       1.00      0.89      0.94         9\n",
            "          55       1.00      1.00      1.00         8\n",
            "          56       1.00      0.90      0.95        10\n",
            "          57       1.00      1.00      1.00        18\n",
            "          58       1.00      0.95      0.97        20\n",
            "          59       0.71      1.00      0.83        10\n",
            "          60       1.00      0.80      0.89        10\n",
            "\n",
            "    accuracy                           0.93       750\n",
            "   macro avg       0.93      0.93      0.93       750\n",
            "weighted avg       0.94      0.93      0.93       750\n",
            "\n",
            "\n",
            "Classification Report for Label 2\n",
            "              precision    recall  f1-score   support\n",
            "\n",
            "        22.0       0.91      0.89      0.90        36\n",
            "        23.0       0.77      0.82      0.79        71\n",
            "        24.0       0.88      0.93      0.91        46\n",
            "        25.0       0.88      0.85      0.86        79\n",
            "        26.0       0.86      0.90      0.88       115\n",
            "        27.0       0.88      0.88      0.88        81\n",
            "        28.0       0.88      0.83      0.85        46\n",
            "        29.0       0.93      0.93      0.93        45\n",
            "        30.0       0.94      0.92      0.93        48\n",
            "        31.0       0.91      0.91      0.91        65\n",
            "        32.0       1.00      0.82      0.90        11\n",
            "        33.0       0.90      0.90      0.90        30\n",
            "        34.0       0.83      0.91      0.87        11\n",
            "        35.0       1.00      0.82      0.90        11\n",
            "        36.0       1.00      1.00      1.00         8\n",
            "        41.0       0.92      0.86      0.89        14\n",
            "        61.0       1.00      0.95      0.97        19\n",
            "\n",
            "    accuracy                           0.88       736\n",
            "   macro avg       0.91      0.89      0.90       736\n",
            "weighted avg       0.89      0.88      0.88       736\n",
            "\n",
            "\n",
            "Classification Report for Label 3\n",
            "              precision    recall  f1-score   support\n",
            "\n",
            "           0       0.97      1.00      0.98       142\n",
            "           1       1.00      0.99      1.00       608\n",
            "\n",
            "    accuracy                           0.99       750\n",
            "   macro avg       0.98      1.00      0.99       750\n",
            "weighted avg       0.99      0.99      0.99       750\n",
            "\n",
            "\n",
            "Classification Report for Label 4\n",
            "              precision    recall  f1-score   support\n",
            "\n",
            "           0       0.91      1.00      0.95        21\n",
            "           1       1.00      0.91      0.95        11\n",
            "           2       0.90      0.96      0.93        27\n",
            "           3       0.89      1.00      0.94         8\n",
            "           4       0.79      0.73      0.76        15\n",
            "           5       0.91      0.91      0.91        11\n",
            "           6       0.95      0.98      0.96       532\n",
            "           7       0.93      0.81      0.87        32\n",
            "           8       0.94      0.79      0.86        19\n",
            "           9       1.00      0.76      0.87        17\n",
            "          10       0.89      0.80      0.84        10\n",
            "          11       1.00      0.82      0.90        11\n",
            "          12       0.95      0.77      0.85        26\n",
            "          13       1.00      0.80      0.89        10\n",
            "\n",
            "    accuracy                           0.94       750\n",
            "   macro avg       0.93      0.86      0.89       750\n",
            "weighted avg       0.94      0.94      0.94       750\n",
            "\n",
            "\n"
          ]
        }
      ],
      "source": [
        "y_pred_for_X_valid_arr = []\n",
        "accuracy_for_valid_data_arr = []\n",
        "for i in range(4):\n",
        "  y_pred_for_X_valid_arr.append(predict(X_valid_after_reduction_arr[i], svm_model_arr[i]))\n",
        "  accuracy_for_valid_data_arr.append(find_accuracy(y_pred_for_X_valid_arr[i], y_valid_arr[i]))\n",
        "  print(f\"Classification Report for Label {i+1}\")\n",
        "  print(classification_report(y_valid_arr[i], y_pred_for_X_valid_arr[i]))\n",
        "  print()\n"
      ]
    },
    {
      "cell_type": "markdown",
      "metadata": {
        "id": "o7wQK3QLK1-2"
      },
      "source": [
        "## Accuracies for valid data"
      ]
    },
    {
      "cell_type": "code",
      "execution_count": 35,
      "metadata": {
        "colab": {
          "base_uri": "https://localhost:8080/"
        },
        "id": "Pb9nVOWXK1sj",
        "outputId": "c4e648ed-3ab0-4053-ac4c-a69f1843d7c3"
      },
      "outputs": [
        {
          "name": "stdout",
          "output_type": "stream",
          "text": [
            "Label 1 accuracy for valid data : 0.928\n",
            "Label 2 accuracy for valid data : 0.8845108695652174\n",
            "Label 3 accuracy for valid data : 0.9933333333333333\n",
            "Label 4 accuracy for valid data : 0.9413333333333334\n"
          ]
        }
      ],
      "source": [
        "for i in range(4):\n",
        "  print(f\"Label {i+1} accuracy for valid data : {accuracy_for_valid_data_arr[i]}\")"
      ]
    },
    {
      "cell_type": "markdown",
      "metadata": {
        "id": "UXRteU6FNDrf"
      },
      "source": [
        "# Explainability (Interpreting the label predictions and any cross-relations with labels)"
      ]
    },
    {
      "cell_type": "markdown",
      "metadata": {},
      "source": [
        "Explaning rbf kernel SVM models are complex. Therefore, to describe the explainability, the linear kernel SVC models are used."
      ]
    },
    {
      "cell_type": "code",
      "execution_count": 39,
      "metadata": {},
      "outputs": [],
      "source": [
        "svm_linear_model_arr = [svm_linear(X_train_after_reduction_arr[i], y_train_arr[i]) for i in range(4)]"
      ]
    },
    {
      "cell_type": "markdown",
      "metadata": {
        "id": "ni77hoDz4b_P"
      },
      "source": [
        "## SHAP"
      ]
    },
    {
      "cell_type": "markdown",
      "metadata": {
        "id": "tV4i9uCHAsM8"
      },
      "source": [
        "SHAP is a framework and a set of techniques used in machine learning to explain the predictions made by complex models, such as SVM."
      ]
    },
    {
      "cell_type": "code",
      "execution_count": null,
      "metadata": {},
      "outputs": [],
      "source": [
        "for i in range(4):\n",
        "  explainer = shap.Explainer(svm_linear_model_arr[i], X_train_after_reduction_arr[i])\n",
        "  instance_index = 0\n",
        "  shap_values = explainer.shap_values(X_test_after_reduction_arr[i])\n",
        "  shap.summary_plot(shap_values, X_test_after_reduction_arr[i])\n",
        "  shap.summary_plot(shap_values)"
      ]
    },
    {
      "cell_type": "markdown",
      "metadata": {
        "id": "k0C_QKbMBo2Y"
      },
      "source": [
        "However, due to the high RAM usage of shap.summary_plot and to the complexity, using SHAP was not very effective."
      ]
    },
    {
      "cell_type": "markdown",
      "metadata": {
        "id": "8oL4fendPISD"
      },
      "source": [
        "## Using weights assigned to the features"
      ]
    },
    {
      "cell_type": "markdown",
      "metadata": {
        "id": "2r6xTuT0Q7YG"
      },
      "source": [
        "SVC.coef_ are weights assigned to the features when kernel=\"linear\"."
      ]
    },
    {
      "cell_type": "code",
      "execution_count": 48,
      "metadata": {
        "id": "EPBJ9hh1Oeau"
      },
      "outputs": [],
      "source": [
        "def print_top_weight_features(svm_model, n_classes):\n",
        "  coefficients = svm_model.coef_\n",
        "  top_weights = []\n",
        "  for class_A in range(n_classes):\n",
        "    for class_B in range(class_A + 1, n_classes):\n",
        "        index = int(class_A * (2 * n_classes - class_A - 1) / 2 + class_B - class_A - 1)\n",
        "        for feature_index, weight in enumerate(coefficients[index]):\n",
        "            absolute_weight = np.abs(weight)\n",
        "            if len(top_weights) < 20:\n",
        "                heapq.heappush(top_weights, (absolute_weight, feature_index, class_A, class_B, weight))\n",
        "            else:\n",
        "                if absolute_weight > top_weights[0][0]:\n",
        "                    heapq.heappop(top_weights)\n",
        "                    heapq.heappush(top_weights, (absolute_weight, feature_index, class_A, class_B, weight))\n",
        "  values_to_print = []\n",
        "  for i in range(20):\n",
        "    values_to_print.insert(0, heapq.heappop(top_weights))\n",
        "  i = 0\n",
        "  for (absolute_weight, feature_index, class_A, class_B, weight) in values_to_print:\n",
        "    print(f\"Top {i + 1}: The weight assigned to feature {feature_index} between class {class_A} and class {class_B} is {weight}\")\n",
        "    i+=1"
      ]
    },
    {
      "cell_type": "code",
      "execution_count": 49,
      "metadata": {
        "colab": {
          "base_uri": "https://localhost:8080/"
        },
        "id": "WkorC0tJOXkI",
        "outputId": "3d2387db-e690-4f68-cade-37bba7cd06ee"
      },
      "outputs": [
        {
          "name": "stdout",
          "output_type": "stream",
          "text": [
            "\n",
            "For the Class label 1\n",
            "Top 1: The weight assigned to feature 97 between class 39 and class 50 is -1.2380471368369959\n",
            "Top 2: The weight assigned to feature 121 between class 34 and class 50 is -1.23183079729651\n",
            "Top 3: The weight assigned to feature 37 between class 34 and class 50 is -1.1770529182030334\n",
            "Top 4: The weight assigned to feature 42 between class 34 and class 50 is 1.1253975568389232\n",
            "Top 5: The weight assigned to feature 144 between class 39 and class 50 is -1.0964601916079941\n",
            "Top 6: The weight assigned to feature 69 between class 6 and class 13 is -1.0881169236059556\n",
            "Top 7: The weight assigned to feature 50 between class 32 and class 38 is 1.0783844617495055\n",
            "Top 8: The weight assigned to feature 99 between class 39 and class 50 is 1.0617108197259708\n",
            "Top 9: The weight assigned to feature 81 between class 9 and class 17 is -1.0479768187532852\n",
            "Top 10: The weight assigned to feature 62 between class 34 and class 47 is -1.0396342967371761\n",
            "Top 11: The weight assigned to feature 74 between class 32 and class 38 is 1.0361597893533976\n",
            "Top 12: The weight assigned to feature 37 between class 28 and class 34 is 1.0170570507923098\n",
            "Top 13: The weight assigned to feature 45 between class 32 and class 38 is 1.000024134701873\n",
            "Top 14: The weight assigned to feature 145 between class 24 and class 50 is -0.9919637812287303\n",
            "Top 15: The weight assigned to feature 108 between class 24 and class 50 is 0.9854945274952065\n",
            "Top 16: The weight assigned to feature 57 between class 52 and class 54 is -0.9802885653223194\n",
            "Top 17: The weight assigned to feature 99 between class 34 and class 47 is 0.9710035437166886\n",
            "Top 18: The weight assigned to feature 136 between class 52 and class 53 is -0.965825278914233\n",
            "Top 19: The weight assigned to feature 56 between class 24 and class 50 is 0.9641559668703907\n",
            "Top 20: The weight assigned to feature 12 between class 10 and class 30 is -0.9607095731315247\n",
            "\n",
            "For the Class label 2\n",
            "Top 1: The weight assigned to feature 59 between class 9 and class 15 is -2.2354583432182054\n",
            "Top 2: The weight assigned to feature 124 between class 1 and class 15 is -1.920071076593691\n",
            "Top 3: The weight assigned to feature 133 between class 8 and class 11 is 1.8584121759948453\n",
            "Top 4: The weight assigned to feature 138 between class 9 and class 15 is -1.8537455208384022\n",
            "Top 5: The weight assigned to feature 115 between class 8 and class 14 is 1.8394304169583515\n",
            "Top 6: The weight assigned to feature 70 between class 8 and class 11 is -1.822905598083103\n",
            "Top 7: The weight assigned to feature 78 between class 8 and class 11 is 1.7889343823931014\n",
            "Top 8: The weight assigned to feature 111 between class 1 and class 14 is 1.7773036161414693\n",
            "Top 9: The weight assigned to feature 105 between class 7 and class 11 is 1.7356353676135452\n",
            "Top 10: The weight assigned to feature 105 between class 6 and class 15 is 1.7314288938614726\n",
            "Top 11: The weight assigned to feature 26 between class 3 and class 10 is -1.7307702559921614\n",
            "Top 12: The weight assigned to feature 137 between class 9 and class 11 is 1.6335594943388592\n",
            "Top 13: The weight assigned to feature 144 between class 9 and class 14 is -1.6330629327126371\n",
            "Top 14: The weight assigned to feature 143 between class 3 and class 15 is -1.621539268331002\n",
            "Top 15: The weight assigned to feature 142 between class 9 and class 14 is 1.6144826308957114\n",
            "Top 16: The weight assigned to feature 108 between class 2 and class 11 is -1.5889903653581374\n",
            "Top 17: The weight assigned to feature 126 between class 2 and class 11 is 1.566563636752024\n",
            "Top 18: The weight assigned to feature 124 between class 9 and class 11 is -1.5455052373528102\n",
            "Top 19: The weight assigned to feature 54 between class 0 and class 8 is -1.5423754819652356\n",
            "Top 20: The weight assigned to feature 145 between class 4 and class 10 is 1.5228938534542122\n",
            "\n",
            "For the Class label 3\n",
            "Top 1: The weight assigned to feature 9 between class 0 and class 1 is 1.3883890650221715\n",
            "Top 2: The weight assigned to feature 16 between class 0 and class 1 is -1.2038134180842537\n",
            "Top 3: The weight assigned to feature 124 between class 0 and class 1 is -1.0878822463553937\n",
            "Top 4: The weight assigned to feature 54 between class 0 and class 1 is 1.0692058300279705\n",
            "Top 5: The weight assigned to feature 27 between class 0 and class 1 is 0.9973814900916889\n",
            "Top 6: The weight assigned to feature 18 between class 0 and class 1 is 0.9248084018072681\n",
            "Top 7: The weight assigned to feature 39 between class 0 and class 1 is 0.9115423445746387\n",
            "Top 8: The weight assigned to feature 119 between class 0 and class 1 is 0.9074783221969485\n",
            "Top 9: The weight assigned to feature 13 between class 0 and class 1 is 0.8813406245997936\n",
            "Top 10: The weight assigned to feature 41 between class 0 and class 1 is -0.8753396415288124\n",
            "Top 11: The weight assigned to feature 44 between class 0 and class 1 is -0.838775754199901\n",
            "Top 12: The weight assigned to feature 4 between class 0 and class 1 is 0.7902063597465077\n",
            "Top 13: The weight assigned to feature 59 between class 0 and class 1 is 0.7828792754536174\n",
            "Top 14: The weight assigned to feature 100 between class 0 and class 1 is 0.7666213209781642\n",
            "Top 15: The weight assigned to feature 7 between class 0 and class 1 is -0.7632269080263245\n",
            "Top 16: The weight assigned to feature 17 between class 0 and class 1 is 0.7320777618733487\n",
            "Top 17: The weight assigned to feature 47 between class 0 and class 1 is 0.727802927055851\n",
            "Top 18: The weight assigned to feature 102 between class 0 and class 1 is 0.7223925320156681\n",
            "Top 19: The weight assigned to feature 8 between class 0 and class 1 is -0.7213832799172568\n",
            "Top 20: The weight assigned to feature 120 between class 0 and class 1 is 0.6954020810265001\n",
            "\n",
            "For the Class label 4\n",
            "Top 1: The weight assigned to feature 62 between class 2 and class 12 is -2.370009516449068\n",
            "Top 2: The weight assigned to feature 134 between class 2 and class 7 is -2.3245206349498555\n",
            "Top 3: The weight assigned to feature 144 between class 2 and class 12 is 2.231449152982086\n",
            "Top 4: The weight assigned to feature 36 between class 2 and class 7 is 2.1050133076216584\n",
            "Top 5: The weight assigned to feature 62 between class 0 and class 2 is 2.0603122572365766\n",
            "Top 6: The weight assigned to feature 134 between class 0 and class 7 is -2.0236018693274507\n",
            "Top 7: The weight assigned to feature 143 between class 0 and class 2 is -2.0191478099473144\n",
            "Top 8: The weight assigned to feature 116 between class 0 and class 12 is 1.9344866545788912\n",
            "Top 9: The weight assigned to feature 134 between class 7 and class 12 is 1.8166556270949927\n",
            "Top 10: The weight assigned to feature 32 between class 2 and class 7 is -1.812158519044381\n",
            "Top 11: The weight assigned to feature 93 between class 1 and class 6 is 1.7726126502271988\n",
            "Top 12: The weight assigned to feature 135 between class 3 and class 6 is 1.76102715909252\n",
            "Top 13: The weight assigned to feature 135 between class 0 and class 12 is -1.7565559070751608\n",
            "Top 14: The weight assigned to feature 61 between class 1 and class 2 is -1.7542836112701918\n",
            "Top 15: The weight assigned to feature 65 between class 3 and class 6 is 1.7241267676617014\n",
            "Top 16: The weight assigned to feature 138 between class 0 and class 2 is -1.6964256977060523\n",
            "Top 17: The weight assigned to feature 146 between class 2 and class 7 is -1.6829986611617525\n",
            "Top 18: The weight assigned to feature 20 between class 10 and class 12 is -1.6746296779254983\n",
            "Top 19: The weight assigned to feature 92 between class 2 and class 7 is 1.6523961210138012\n",
            "Top 20: The weight assigned to feature 119 between class 1 and class 2 is 1.6517576526422229\n"
          ]
        }
      ],
      "source": [
        "for i in range(4):\n",
        "  print(f\"\\nFor the Class label {i+1}\")\n",
        "  print_top_weight_features(svm_linear_model_arr[i], len(y_train_arr[i].unique()))\n"
      ]
    },
    {
      "cell_type": "markdown",
      "metadata": {},
      "source": [
        "According to the above outputs, for the label 1, features 97, 121, 37, 42 and 144 affects more than other features. For the label 2, features 59, 146, 20, 92 and 119 affects more than other features. For the label 3, features 9, 16, 124, 54 and 27 affects more than other features. For the label 4, features 62, 134, 144, 36 and 62 affects more than other features."
      ]
    },
    {
      "cell_type": "markdown",
      "metadata": {
        "id": "W1aAbM0BP6Mj"
      },
      "source": [
        "## Using constants in the decision function"
      ]
    },
    {
      "cell_type": "markdown",
      "metadata": {
        "id": "NijTDX6MQ-N7"
      },
      "source": [
        "SVC.intercept_ are constants in decision function."
      ]
    },
    {
      "cell_type": "code",
      "execution_count": 57,
      "metadata": {
        "id": "Cwgxg3TsP46v"
      },
      "outputs": [],
      "source": [
        "def print_top_constants(svm_model, n_classes, binary=False):\n",
        "  intercept = svm_model.intercept_\n",
        "  top_constants = []\n",
        "  for class_A in range(n_classes):\n",
        "    for class_B in range(class_A + 1, n_classes):\n",
        "        index = int(class_A * (2 * n_classes - class_A - 1) / 2 + class_B - class_A - 1)\n",
        "        intercept_value = intercept[index]\n",
        "        absolute_intercept_value = np.abs(intercept[index])\n",
        "        if len(top_constants) < 20:\n",
        "            heapq.heappush(top_constants, (absolute_intercept_value, intercept_value, class_A, class_B))\n",
        "        else:\n",
        "            if absolute_intercept_value > top_constants[0][0]:\n",
        "                heapq.heappop(top_constants)\n",
        "                heapq.heappush(top_constants, (absolute_intercept_value, intercept_value, class_A, class_B))\n",
        "  values_to_print = []\n",
        "  if binary:\n",
        "     values_to_print.append(top_constants[0])\n",
        "  else:\n",
        "    for i in range(20):\n",
        "      values_to_print.insert(0, heapq.heappop(top_constants))\n",
        "  i = 0\n",
        "  for (absolute_intercept_value, intercept_value, class_A, class_B) in values_to_print:\n",
        "    print(f\"Top {i + 1}: Intercept/Constant in the decision function is {intercept_value} between the classes {class_A} and {class_B}\")\n",
        "    i+=1"
      ]
    },
    {
      "cell_type": "code",
      "execution_count": 58,
      "metadata": {
        "colab": {
          "base_uri": "https://localhost:8080/"
        },
        "id": "CWFcpqkUQojA",
        "outputId": "47e2abfd-a30f-447d-fbad-f701849a143c"
      },
      "outputs": [
        {
          "name": "stdout",
          "output_type": "stream",
          "text": [
            "\n",
            "For the Class Label 1\n",
            "Top 1: Intercept/Constant in the decision function is 4.089729038014162 between the classes 34 and 47\n",
            "Top 2: Intercept/Constant in the decision function is -3.4756698157785957 between the classes 11 and 35\n",
            "Top 3: Intercept/Constant in the decision function is 3.084721289839607 between the classes 35 and 57\n",
            "Top 4: Intercept/Constant in the decision function is -3.0715766292102313 between the classes 6 and 13\n",
            "Top 5: Intercept/Constant in the decision function is 3.01203005953284 between the classes 32 and 33\n",
            "Top 6: Intercept/Constant in the decision function is -2.826718077283088 between the classes 21 and 50\n",
            "Top 7: Intercept/Constant in the decision function is -2.803232785631701 between the classes 11 and 39\n",
            "Top 8: Intercept/Constant in the decision function is -2.7170572325252174 between the classes 8 and 39\n",
            "Top 9: Intercept/Constant in the decision function is -2.6832611059390037 between the classes 8 and 18\n",
            "Top 10: Intercept/Constant in the decision function is -2.656927787941231 between the classes 27 and 35\n",
            "Top 11: Intercept/Constant in the decision function is -2.6564108520453824 between the classes 21 and 34\n",
            "Top 12: Intercept/Constant in the decision function is -2.6266514547474586 between the classes 42 and 55\n",
            "Top 13: Intercept/Constant in the decision function is 2.6153985996820253 between the classes 55 and 56\n",
            "Top 14: Intercept/Constant in the decision function is -2.529977371868722 between the classes 8 and 50\n",
            "Top 15: Intercept/Constant in the decision function is -2.5260294128633265 between the classes 11 and 58\n",
            "Top 16: Intercept/Constant in the decision function is -2.514430592773802 between the classes 42 and 58\n",
            "Top 17: Intercept/Constant in the decision function is -2.4848100536709246 between the classes 47 and 50\n",
            "Top 18: Intercept/Constant in the decision function is -2.467217143293166 between the classes 57 and 58\n",
            "Top 19: Intercept/Constant in the decision function is 2.4514117158812994 between the classes 30 and 33\n",
            "Top 20: Intercept/Constant in the decision function is -2.396891907156799 between the classes 6 and 50\n",
            "\n",
            "For the Class Label 2\n",
            "Top 1: Intercept/Constant in the decision function is 10.956566617155607 between the classes 3 and 14\n",
            "Top 2: Intercept/Constant in the decision function is 10.904962210176716 between the classes 4 and 10\n",
            "Top 3: Intercept/Constant in the decision function is 10.54906212523739 between the classes 4 and 15\n",
            "Top 4: Intercept/Constant in the decision function is 10.105259246208744 between the classes 5 and 15\n",
            "Top 5: Intercept/Constant in the decision function is 9.663723951806059 between the classes 1 and 14\n",
            "Top 6: Intercept/Constant in the decision function is 9.484072572519562 between the classes 1 and 15\n",
            "Top 7: Intercept/Constant in the decision function is 9.048782605712153 between the classes 4 and 16\n",
            "Top 8: Intercept/Constant in the decision function is 8.972059958241951 between the classes 5 and 14\n",
            "Top 9: Intercept/Constant in the decision function is 8.89046235189048 between the classes 9 and 15\n",
            "Top 10: Intercept/Constant in the decision function is 8.481397886292223 between the classes 4 and 14\n",
            "Top 11: Intercept/Constant in the decision function is 8.427933673223583 between the classes 3 and 16\n",
            "Top 12: Intercept/Constant in the decision function is 8.30015825684941 between the classes 3 and 15\n",
            "Top 13: Intercept/Constant in the decision function is 7.919597662885904 between the classes 9 and 14\n",
            "Top 14: Intercept/Constant in the decision function is 7.552967504986937 between the classes 8 and 14\n",
            "Top 15: Intercept/Constant in the decision function is 7.551087828070857 between the classes 5 and 12\n",
            "Top 16: Intercept/Constant in the decision function is 7.2330177781703675 between the classes 8 and 15\n",
            "Top 17: Intercept/Constant in the decision function is 6.943016311187558 between the classes 5 and 10\n",
            "Top 18: Intercept/Constant in the decision function is 6.836301419930747 between the classes 4 and 13\n",
            "Top 19: Intercept/Constant in the decision function is 6.565614791627897 between the classes 0 and 12\n",
            "Top 20: Intercept/Constant in the decision function is 6.40070423261858 between the classes 6 and 15\n",
            "\n",
            "For the Class Label 3\n",
            "Top 1: Intercept/Constant in the decision function is 5.269044170057028 between the classes 0 and 1\n",
            "\n",
            "For the Class Label 4\n",
            "Top 1: Intercept/Constant in the decision function is -13.319879055635578 between the classes 4 and 6\n",
            "Top 2: Intercept/Constant in the decision function is 12.702406976900877 between the classes 6 and 13\n",
            "Top 3: Intercept/Constant in the decision function is -11.632551316777924 between the classes 3 and 6\n",
            "Top 4: Intercept/Constant in the decision function is -11.306250519739882 between the classes 5 and 6\n",
            "Top 5: Intercept/Constant in the decision function is 11.15677763632859 between the classes 6 and 9\n",
            "Top 6: Intercept/Constant in the decision function is 11.125748833929922 between the classes 6 and 11\n",
            "Top 7: Intercept/Constant in the decision function is -10.466153106407356 between the classes 1 and 6\n",
            "Top 8: Intercept/Constant in the decision function is 10.418894276315868 between the classes 6 and 10\n",
            "Top 9: Intercept/Constant in the decision function is 9.292123413427971 between the classes 6 and 8\n",
            "Top 10: Intercept/Constant in the decision function is -7.263733110152981 between the classes 10 and 12\n",
            "Top 11: Intercept/Constant in the decision function is 7.1745834924007905 between the classes 2 and 13\n",
            "Top 12: Intercept/Constant in the decision function is 7.108655735323363 between the classes 2 and 3\n",
            "Top 13: Intercept/Constant in the decision function is -6.526958218713072 between the classes 1 and 2\n",
            "Top 14: Intercept/Constant in the decision function is 4.687299402659994 between the classes 7 and 10\n",
            "Top 15: Intercept/Constant in the decision function is -4.24283455402115 between the classes 0 and 6\n",
            "Top 16: Intercept/Constant in the decision function is -4.037730406640013 between the classes 4 and 12\n",
            "Top 17: Intercept/Constant in the decision function is -3.394329187801734 between the classes 4 and 7\n",
            "Top 18: Intercept/Constant in the decision function is -3.1039326229013104 between the classes 11 and 12\n",
            "Top 19: Intercept/Constant in the decision function is -3.0732269678668236 between the classes 2 and 6\n",
            "Top 20: Intercept/Constant in the decision function is 3.040804878547122 between the classes 6 and 7\n"
          ]
        }
      ],
      "source": [
        "for i in range(4):\n",
        "  print(f\"\\nFor the Class Label {i+1}\")\n",
        "  binary = False\n",
        "  if i==2:\n",
        "    binary=True\n",
        "  print_top_constants(svm_linear_model_arr[i], len(y_train_arr[i].unique()), binary=binary)\n"
      ]
    },
    {
      "cell_type": "markdown",
      "metadata": {
        "id": "i5a9YVAnvxYz"
      },
      "source": [
        "# Predicting for test data"
      ]
    },
    {
      "cell_type": "code",
      "execution_count": 59,
      "metadata": {
        "id": "2YuMj-nlIc0i"
      },
      "outputs": [],
      "source": [
        "y_pred_for_X_test_arr = []\n",
        "for i in range(4):\n",
        "  y_pred_for_X_test_arr.append(predict(X_test_after_reduction_arr[i], svm_model_arr[i]))"
      ]
    },
    {
      "cell_type": "markdown",
      "metadata": {
        "id": "bPtWiMe7LXYr"
      },
      "source": [
        "# Creating the solutions csv"
      ]
    },
    {
      "cell_type": "code",
      "execution_count": 60,
      "metadata": {
        "id": "Wulyg_VIGDuc"
      },
      "outputs": [],
      "source": [
        "def createCSVOutput(y_arr, filename):\n",
        "  data = {\n",
        "    'ID' : list(range(1, y_arr[0].shape[0] + 1)),\n",
        "    'label_1': y_arr[0],\n",
        "    'label_2': y_arr[1],\n",
        "    'label_3': y_arr[2],\n",
        "    'label_4': y_arr[3]\n",
        "  }\n",
        "  df = pd.DataFrame(data)\n",
        "  df.to_csv(filename, index=False)"
      ]
    },
    {
      "cell_type": "code",
      "execution_count": 61,
      "metadata": {
        "id": "JyA_dvHyINHz"
      },
      "outputs": [],
      "source": [
        "createCSVOutput(y_pred_for_X_test_arr, './output.csv')"
      ]
    },
    {
      "cell_type": "code",
      "execution_count": null,
      "metadata": {},
      "outputs": [],
      "source": []
    }
  ],
  "metadata": {
    "colab": {
      "collapsed_sections": [
        "i5a9YVAnvxYz"
      ],
      "provenance": []
    },
    "kernelspec": {
      "display_name": "Python 3",
      "name": "python3"
    },
    "language_info": {
      "codemirror_mode": {
        "name": "ipython",
        "version": 3
      },
      "file_extension": ".py",
      "mimetype": "text/x-python",
      "name": "python",
      "nbconvert_exporter": "python",
      "pygments_lexer": "ipython3",
      "version": "3.10.12"
    }
  },
  "nbformat": 4,
  "nbformat_minor": 0
}
